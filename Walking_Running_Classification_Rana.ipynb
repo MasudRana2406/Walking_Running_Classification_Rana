{
  "cells": [
    {
      "cell_type": "markdown",
      "id": "8e1fd936",
      "metadata": {
        "id": "8e1fd936"
      },
      "source": [
        "# Walking Running Classification"
      ]
    },
    {
      "cell_type": "markdown",
      "id": "93beb268",
      "metadata": {
        "id": "93beb268"
      },
      "source": [
        "##### MADE BY TEAM ID : PTID-CDS-JUN-23-1533"
      ]
    },
    {
      "cell_type": "markdown",
      "id": "2225657d",
      "metadata": {
        "id": "2225657d"
      },
      "source": [
        "##### PROJECT ID : PTID-CDS-JUN-23-1533"
      ]
    },
    {
      "cell_type": "markdown",
      "id": "f6c36bd0",
      "metadata": {
        "id": "f6c36bd0"
      },
      "source": [
        "# Team ID: PTID-CDS-JUN-23-1533\n",
        "Team Member :\n",
        "1. Kowshik B C koushikoushik17@gmail.com\n",
        "2. DIVYA Poorani CHINTUDIVI@gmail.com\n",
        "3. Praveen venka praveensevenhills@gmail.com\n",
        "4. Masud Rana m.rana24june@gmail.com"
      ]
    },
    {
      "cell_type": "markdown",
      "id": "fd71915e",
      "metadata": {
        "id": "fd71915e"
      },
      "source": [
        "# BUSINESS CASE"
      ]
    },
    {
      "cell_type": "markdown",
      "id": "1b18a1d2",
      "metadata": {
        "id": "1b18a1d2"
      },
      "source": [
        "###### This notebook contains various ML Model which will be able to predict the future flight ticket prices"
      ]
    },
    {
      "cell_type": "markdown",
      "id": "61b4d2ff",
      "metadata": {
        "id": "61b4d2ff"
      },
      "source": [
        "# 1] PROBLEM DEFINITION"
      ]
    },
    {
      "cell_type": "markdown",
      "id": "d4566236",
      "metadata": {
        "id": "d4566236"
      },
      "source": [
        "* This dataset contains accelerometer and gyroscope data associated when a person is running and walking. The target is to create a model to detect whether a person is running or walking."
      ]
    },
    {
      "cell_type": "markdown",
      "id": "a5134463",
      "metadata": {
        "id": "a5134463"
      },
      "source": [
        "* In a world increasingly driven by technological innovation, there is a growing interest in understanding human activities through data analysis. One particular area of interest is the classification of walking and running activities based on recorded movement data. The problem at hand involves designing and implementing a robust machine learning classifier capable of accurately distinguishing between walking and running activities, given input sensor data."
      ]
    },
    {
      "cell_type": "markdown",
      "id": "ed5caab4",
      "metadata": {
        "id": "ed5caab4"
      },
      "source": [
        "# 2] Importing library"
      ]
    },
    {
      "cell_type": "code",
      "execution_count": null,
      "id": "61a340ab",
      "metadata": {
        "id": "61a340ab"
      },
      "outputs": [],
      "source": [
        "import numpy as np\n",
        "import pandas as pd\n",
        "import matplotlib.pyplot as plt\n",
        "import seaborn as sns\n",
        "import warnings\n",
        "warnings.filterwarnings('ignore')"
      ]
    },
    {
      "cell_type": "markdown",
      "id": "b7212130",
      "metadata": {
        "id": "b7212130"
      },
      "source": [
        "# 3] Loading.. File"
      ]
    },
    {
      "cell_type": "code",
      "execution_count": null,
      "id": "8b63c673",
      "metadata": {
        "id": "8b63c673"
      },
      "outputs": [],
      "source": [
        "data = pd.read_csv('walkrun.csv')"
      ]
    },
    {
      "cell_type": "code",
      "execution_count": null,
      "id": "00753e9f",
      "metadata": {
        "id": "00753e9f",
        "outputId": "5f133673-35e4-482f-8f58-f68c024e14b8"
      },
      "outputs": [
        {
          "data": {
            "text/html": [
              "<div>\n",
              "<style scoped>\n",
              "    .dataframe tbody tr th:only-of-type {\n",
              "        vertical-align: middle;\n",
              "    }\n",
              "\n",
              "    .dataframe tbody tr th {\n",
              "        vertical-align: top;\n",
              "    }\n",
              "\n",
              "    .dataframe thead th {\n",
              "        text-align: right;\n",
              "    }\n",
              "</style>\n",
              "<table border=\"1\" class=\"dataframe\">\n",
              "  <thead>\n",
              "    <tr style=\"text-align: right;\">\n",
              "      <th></th>\n",
              "      <th>date</th>\n",
              "      <th>time</th>\n",
              "      <th>username</th>\n",
              "      <th>wrist</th>\n",
              "      <th>activity</th>\n",
              "      <th>acceleration_x</th>\n",
              "      <th>acceleration_y</th>\n",
              "      <th>acceleration_z</th>\n",
              "      <th>gyro_x</th>\n",
              "      <th>gyro_y</th>\n",
              "      <th>gyro_z</th>\n",
              "    </tr>\n",
              "  </thead>\n",
              "  <tbody>\n",
              "    <tr>\n",
              "      <th>0</th>\n",
              "      <td>2017-6-30</td>\n",
              "      <td>13:51:15:847724020</td>\n",
              "      <td>viktor</td>\n",
              "      <td>0</td>\n",
              "      <td>0</td>\n",
              "      <td>0.2650</td>\n",
              "      <td>-0.7814</td>\n",
              "      <td>-0.0076</td>\n",
              "      <td>-0.0590</td>\n",
              "      <td>0.0325</td>\n",
              "      <td>-2.9296</td>\n",
              "    </tr>\n",
              "    <tr>\n",
              "      <th>1</th>\n",
              "      <td>2017-6-30</td>\n",
              "      <td>13:51:16:246945023</td>\n",
              "      <td>viktor</td>\n",
              "      <td>0</td>\n",
              "      <td>0</td>\n",
              "      <td>0.6722</td>\n",
              "      <td>-1.1233</td>\n",
              "      <td>-0.2344</td>\n",
              "      <td>-0.1757</td>\n",
              "      <td>0.0208</td>\n",
              "      <td>0.1269</td>\n",
              "    </tr>\n",
              "    <tr>\n",
              "      <th>2</th>\n",
              "      <td>2017-6-30</td>\n",
              "      <td>13:51:16:446233987</td>\n",
              "      <td>viktor</td>\n",
              "      <td>0</td>\n",
              "      <td>0</td>\n",
              "      <td>0.4399</td>\n",
              "      <td>-1.4817</td>\n",
              "      <td>0.0722</td>\n",
              "      <td>-0.9105</td>\n",
              "      <td>0.1063</td>\n",
              "      <td>-2.4367</td>\n",
              "    </tr>\n",
              "    <tr>\n",
              "      <th>3</th>\n",
              "      <td>2017-6-30</td>\n",
              "      <td>13:51:16:646117985</td>\n",
              "      <td>viktor</td>\n",
              "      <td>0</td>\n",
              "      <td>0</td>\n",
              "      <td>0.3031</td>\n",
              "      <td>-0.8125</td>\n",
              "      <td>0.0888</td>\n",
              "      <td>0.1199</td>\n",
              "      <td>-0.4099</td>\n",
              "      <td>-2.9336</td>\n",
              "    </tr>\n",
              "    <tr>\n",
              "      <th>4</th>\n",
              "      <td>2017-6-30</td>\n",
              "      <td>13:51:16:846738994</td>\n",
              "      <td>viktor</td>\n",
              "      <td>0</td>\n",
              "      <td>0</td>\n",
              "      <td>0.4814</td>\n",
              "      <td>-0.9312</td>\n",
              "      <td>0.0359</td>\n",
              "      <td>0.0527</td>\n",
              "      <td>0.4379</td>\n",
              "      <td>2.4922</td>\n",
              "    </tr>\n",
              "    <tr>\n",
              "      <th>...</th>\n",
              "      <td>...</td>\n",
              "      <td>...</td>\n",
              "      <td>...</td>\n",
              "      <td>...</td>\n",
              "      <td>...</td>\n",
              "      <td>...</td>\n",
              "      <td>...</td>\n",
              "      <td>...</td>\n",
              "      <td>...</td>\n",
              "      <td>...</td>\n",
              "      <td>...</td>\n",
              "    </tr>\n",
              "    <tr>\n",
              "      <th>88583</th>\n",
              "      <td>2017-7-9</td>\n",
              "      <td>20:9:15:317911028</td>\n",
              "      <td>viktor</td>\n",
              "      <td>0</td>\n",
              "      <td>0</td>\n",
              "      <td>0.3084</td>\n",
              "      <td>-0.8376</td>\n",
              "      <td>-0.1327</td>\n",
              "      <td>0.4823</td>\n",
              "      <td>2.0124</td>\n",
              "      <td>0.6048</td>\n",
              "    </tr>\n",
              "    <tr>\n",
              "      <th>88584</th>\n",
              "      <td>2017-7-9</td>\n",
              "      <td>20:9:15:517889022</td>\n",
              "      <td>viktor</td>\n",
              "      <td>0</td>\n",
              "      <td>0</td>\n",
              "      <td>0.4977</td>\n",
              "      <td>-1.0027</td>\n",
              "      <td>-0.4397</td>\n",
              "      <td>0.1022</td>\n",
              "      <td>-1.2565</td>\n",
              "      <td>-0.0761</td>\n",
              "    </tr>\n",
              "    <tr>\n",
              "      <th>88585</th>\n",
              "      <td>2017-7-9</td>\n",
              "      <td>20:9:15:717828989</td>\n",
              "      <td>viktor</td>\n",
              "      <td>0</td>\n",
              "      <td>0</td>\n",
              "      <td>0.4587</td>\n",
              "      <td>-1.1780</td>\n",
              "      <td>-0.2827</td>\n",
              "      <td>-1.4500</td>\n",
              "      <td>-0.2792</td>\n",
              "      <td>-1.2616</td>\n",
              "    </tr>\n",
              "    <tr>\n",
              "      <th>88586</th>\n",
              "      <td>2017-7-9</td>\n",
              "      <td>20:9:15:917932987</td>\n",
              "      <td>viktor</td>\n",
              "      <td>0</td>\n",
              "      <td>0</td>\n",
              "      <td>0.2590</td>\n",
              "      <td>-0.8582</td>\n",
              "      <td>-0.0759</td>\n",
              "      <td>-1.5165</td>\n",
              "      <td>0.4560</td>\n",
              "      <td>-1.7755</td>\n",
              "    </tr>\n",
              "    <tr>\n",
              "      <th>88587</th>\n",
              "      <td>2017-7-9</td>\n",
              "      <td>20:9:16:117410004</td>\n",
              "      <td>viktor</td>\n",
              "      <td>0</td>\n",
              "      <td>0</td>\n",
              "      <td>0.3140</td>\n",
              "      <td>-0.8008</td>\n",
              "      <td>-0.0911</td>\n",
              "      <td>0.1183</td>\n",
              "      <td>1.0850</td>\n",
              "      <td>1.2814</td>\n",
              "    </tr>\n",
              "  </tbody>\n",
              "</table>\n",
              "<p>88588 rows × 11 columns</p>\n",
              "</div>"
            ],
            "text/plain": [
              "            date                time username  wrist  activity  \\\n",
              "0      2017-6-30  13:51:15:847724020   viktor      0         0   \n",
              "1      2017-6-30  13:51:16:246945023   viktor      0         0   \n",
              "2      2017-6-30  13:51:16:446233987   viktor      0         0   \n",
              "3      2017-6-30  13:51:16:646117985   viktor      0         0   \n",
              "4      2017-6-30  13:51:16:846738994   viktor      0         0   \n",
              "...          ...                 ...      ...    ...       ...   \n",
              "88583   2017-7-9   20:9:15:317911028   viktor      0         0   \n",
              "88584   2017-7-9   20:9:15:517889022   viktor      0         0   \n",
              "88585   2017-7-9   20:9:15:717828989   viktor      0         0   \n",
              "88586   2017-7-9   20:9:15:917932987   viktor      0         0   \n",
              "88587   2017-7-9   20:9:16:117410004   viktor      0         0   \n",
              "\n",
              "       acceleration_x  acceleration_y  acceleration_z  gyro_x  gyro_y  gyro_z  \n",
              "0              0.2650         -0.7814         -0.0076 -0.0590  0.0325 -2.9296  \n",
              "1              0.6722         -1.1233         -0.2344 -0.1757  0.0208  0.1269  \n",
              "2              0.4399         -1.4817          0.0722 -0.9105  0.1063 -2.4367  \n",
              "3              0.3031         -0.8125          0.0888  0.1199 -0.4099 -2.9336  \n",
              "4              0.4814         -0.9312          0.0359  0.0527  0.4379  2.4922  \n",
              "...               ...             ...             ...     ...     ...     ...  \n",
              "88583          0.3084         -0.8376         -0.1327  0.4823  2.0124  0.6048  \n",
              "88584          0.4977         -1.0027         -0.4397  0.1022 -1.2565 -0.0761  \n",
              "88585          0.4587         -1.1780         -0.2827 -1.4500 -0.2792 -1.2616  \n",
              "88586          0.2590         -0.8582         -0.0759 -1.5165  0.4560 -1.7755  \n",
              "88587          0.3140         -0.8008         -0.0911  0.1183  1.0850  1.2814  \n",
              "\n",
              "[88588 rows x 11 columns]"
            ]
          },
          "execution_count": 57,
          "metadata": {},
          "output_type": "execute_result"
        }
      ],
      "source": [
        "data"
      ]
    },
    {
      "cell_type": "markdown",
      "id": "e5257b9a",
      "metadata": {
        "id": "e5257b9a"
      },
      "source": [
        "# Domain Analysis : Walking Running Classification of Dataset"
      ]
    },
    {
      "cell_type": "markdown",
      "id": "83d69e10",
      "metadata": {
        "id": "83d69e10"
      },
      "source": [
        "#### Currently, the dataset contains a single file which represents 88588 sensor data samples collected from accelerometer and gyroscope from iPhone 5c in 10 seconds interval and ~5.4/second frequency. This data is represented by following columns (each column contains sensor data for one of the sensor's axes):\n",
        "\n",
        "* acceleration_x\n",
        "* acceleration_y\n",
        "* acceleration_z\n",
        "* gyro_x\n",
        "* gyro_y\n",
        "* gyro_z\n",
        "\n",
        "#### Acceleration\n",
        "* Acceleration measures the rate of change of velocity concerning time. In this context, it refers to the acceleration data collected from accelerometers in wearable devices.\n",
        "\n",
        "#### Gyro\n",
        "* A gyroscope is a sensor that measures angular velocity, which represents the rate of rotation around an axis. In this context, it refers to the gyroscope data collected from wearable devices.\n",
        "\n",
        "\n",
        "#### There is an activity type represented by \"activity\" column which acts as label and reflects following activities:\n",
        "\n",
        "* 0: walking\n",
        "* 1: running\n",
        "\n",
        "#### Walking\n",
        "* A mode of human locomotion involving a series of coordinated steps where one foot is always in contact with the ground.\n",
        "\n",
        "#### Running\n",
        "* Another mode of human locomotion that involves a phase with both feet off the ground during each stride.\n",
        "\n",
        "\n",
        "#### Apart of that, the dataset contains \"wrist\" column which represents the wrist where the device was placed to collect a sample on:\n",
        "\n",
        "* 0: left wrist\n",
        "* 1: right wrist"
      ]
    },
    {
      "cell_type": "markdown",
      "id": "73be572b",
      "metadata": {
        "id": "73be572b"
      },
      "source": [
        "# Basic check"
      ]
    },
    {
      "cell_type": "code",
      "execution_count": null,
      "id": "798f2ba1",
      "metadata": {
        "id": "798f2ba1",
        "outputId": "306fcb3d-9466-4c5b-accb-b02792aabcea"
      },
      "outputs": [
        {
          "data": {
            "text/html": [
              "<div>\n",
              "<style scoped>\n",
              "    .dataframe tbody tr th:only-of-type {\n",
              "        vertical-align: middle;\n",
              "    }\n",
              "\n",
              "    .dataframe tbody tr th {\n",
              "        vertical-align: top;\n",
              "    }\n",
              "\n",
              "    .dataframe thead th {\n",
              "        text-align: right;\n",
              "    }\n",
              "</style>\n",
              "<table border=\"1\" class=\"dataframe\">\n",
              "  <thead>\n",
              "    <tr style=\"text-align: right;\">\n",
              "      <th></th>\n",
              "      <th>date</th>\n",
              "      <th>time</th>\n",
              "      <th>username</th>\n",
              "      <th>wrist</th>\n",
              "      <th>activity</th>\n",
              "      <th>acceleration_x</th>\n",
              "      <th>acceleration_y</th>\n",
              "      <th>acceleration_z</th>\n",
              "      <th>gyro_x</th>\n",
              "      <th>gyro_y</th>\n",
              "      <th>gyro_z</th>\n",
              "    </tr>\n",
              "  </thead>\n",
              "  <tbody>\n",
              "    <tr>\n",
              "      <th>0</th>\n",
              "      <td>2017-6-30</td>\n",
              "      <td>13:51:15:847724020</td>\n",
              "      <td>viktor</td>\n",
              "      <td>0</td>\n",
              "      <td>0</td>\n",
              "      <td>0.2650</td>\n",
              "      <td>-0.7814</td>\n",
              "      <td>-0.0076</td>\n",
              "      <td>-0.0590</td>\n",
              "      <td>0.0325</td>\n",
              "      <td>-2.9296</td>\n",
              "    </tr>\n",
              "    <tr>\n",
              "      <th>1</th>\n",
              "      <td>2017-6-30</td>\n",
              "      <td>13:51:16:246945023</td>\n",
              "      <td>viktor</td>\n",
              "      <td>0</td>\n",
              "      <td>0</td>\n",
              "      <td>0.6722</td>\n",
              "      <td>-1.1233</td>\n",
              "      <td>-0.2344</td>\n",
              "      <td>-0.1757</td>\n",
              "      <td>0.0208</td>\n",
              "      <td>0.1269</td>\n",
              "    </tr>\n",
              "    <tr>\n",
              "      <th>2</th>\n",
              "      <td>2017-6-30</td>\n",
              "      <td>13:51:16:446233987</td>\n",
              "      <td>viktor</td>\n",
              "      <td>0</td>\n",
              "      <td>0</td>\n",
              "      <td>0.4399</td>\n",
              "      <td>-1.4817</td>\n",
              "      <td>0.0722</td>\n",
              "      <td>-0.9105</td>\n",
              "      <td>0.1063</td>\n",
              "      <td>-2.4367</td>\n",
              "    </tr>\n",
              "    <tr>\n",
              "      <th>3</th>\n",
              "      <td>2017-6-30</td>\n",
              "      <td>13:51:16:646117985</td>\n",
              "      <td>viktor</td>\n",
              "      <td>0</td>\n",
              "      <td>0</td>\n",
              "      <td>0.3031</td>\n",
              "      <td>-0.8125</td>\n",
              "      <td>0.0888</td>\n",
              "      <td>0.1199</td>\n",
              "      <td>-0.4099</td>\n",
              "      <td>-2.9336</td>\n",
              "    </tr>\n",
              "    <tr>\n",
              "      <th>4</th>\n",
              "      <td>2017-6-30</td>\n",
              "      <td>13:51:16:846738994</td>\n",
              "      <td>viktor</td>\n",
              "      <td>0</td>\n",
              "      <td>0</td>\n",
              "      <td>0.4814</td>\n",
              "      <td>-0.9312</td>\n",
              "      <td>0.0359</td>\n",
              "      <td>0.0527</td>\n",
              "      <td>0.4379</td>\n",
              "      <td>2.4922</td>\n",
              "    </tr>\n",
              "  </tbody>\n",
              "</table>\n",
              "</div>"
            ],
            "text/plain": [
              "        date                time username  wrist  activity  acceleration_x  \\\n",
              "0  2017-6-30  13:51:15:847724020   viktor      0         0          0.2650   \n",
              "1  2017-6-30  13:51:16:246945023   viktor      0         0          0.6722   \n",
              "2  2017-6-30  13:51:16:446233987   viktor      0         0          0.4399   \n",
              "3  2017-6-30  13:51:16:646117985   viktor      0         0          0.3031   \n",
              "4  2017-6-30  13:51:16:846738994   viktor      0         0          0.4814   \n",
              "\n",
              "   acceleration_y  acceleration_z  gyro_x  gyro_y  gyro_z  \n",
              "0         -0.7814         -0.0076 -0.0590  0.0325 -2.9296  \n",
              "1         -1.1233         -0.2344 -0.1757  0.0208  0.1269  \n",
              "2         -1.4817          0.0722 -0.9105  0.1063 -2.4367  \n",
              "3         -0.8125          0.0888  0.1199 -0.4099 -2.9336  \n",
              "4         -0.9312          0.0359  0.0527  0.4379  2.4922  "
            ]
          },
          "execution_count": 58,
          "metadata": {},
          "output_type": "execute_result"
        }
      ],
      "source": [
        "# Displaying the first 5 rows of the dataset using the 'head()' function\n",
        "data.head()"
      ]
    },
    {
      "cell_type": "code",
      "execution_count": null,
      "id": "cd82fd44",
      "metadata": {
        "id": "cd82fd44",
        "outputId": "c094847e-cc26-480c-f632-0f638f0cef8a"
      },
      "outputs": [
        {
          "data": {
            "text/html": [
              "<div>\n",
              "<style scoped>\n",
              "    .dataframe tbody tr th:only-of-type {\n",
              "        vertical-align: middle;\n",
              "    }\n",
              "\n",
              "    .dataframe tbody tr th {\n",
              "        vertical-align: top;\n",
              "    }\n",
              "\n",
              "    .dataframe thead th {\n",
              "        text-align: right;\n",
              "    }\n",
              "</style>\n",
              "<table border=\"1\" class=\"dataframe\">\n",
              "  <thead>\n",
              "    <tr style=\"text-align: right;\">\n",
              "      <th></th>\n",
              "      <th>date</th>\n",
              "      <th>time</th>\n",
              "      <th>username</th>\n",
              "      <th>wrist</th>\n",
              "      <th>activity</th>\n",
              "      <th>acceleration_x</th>\n",
              "      <th>acceleration_y</th>\n",
              "      <th>acceleration_z</th>\n",
              "      <th>gyro_x</th>\n",
              "      <th>gyro_y</th>\n",
              "      <th>gyro_z</th>\n",
              "    </tr>\n",
              "  </thead>\n",
              "  <tbody>\n",
              "    <tr>\n",
              "      <th>88583</th>\n",
              "      <td>2017-7-9</td>\n",
              "      <td>20:9:15:317911028</td>\n",
              "      <td>viktor</td>\n",
              "      <td>0</td>\n",
              "      <td>0</td>\n",
              "      <td>0.3084</td>\n",
              "      <td>-0.8376</td>\n",
              "      <td>-0.1327</td>\n",
              "      <td>0.4823</td>\n",
              "      <td>2.0124</td>\n",
              "      <td>0.6048</td>\n",
              "    </tr>\n",
              "    <tr>\n",
              "      <th>88584</th>\n",
              "      <td>2017-7-9</td>\n",
              "      <td>20:9:15:517889022</td>\n",
              "      <td>viktor</td>\n",
              "      <td>0</td>\n",
              "      <td>0</td>\n",
              "      <td>0.4977</td>\n",
              "      <td>-1.0027</td>\n",
              "      <td>-0.4397</td>\n",
              "      <td>0.1022</td>\n",
              "      <td>-1.2565</td>\n",
              "      <td>-0.0761</td>\n",
              "    </tr>\n",
              "    <tr>\n",
              "      <th>88585</th>\n",
              "      <td>2017-7-9</td>\n",
              "      <td>20:9:15:717828989</td>\n",
              "      <td>viktor</td>\n",
              "      <td>0</td>\n",
              "      <td>0</td>\n",
              "      <td>0.4587</td>\n",
              "      <td>-1.1780</td>\n",
              "      <td>-0.2827</td>\n",
              "      <td>-1.4500</td>\n",
              "      <td>-0.2792</td>\n",
              "      <td>-1.2616</td>\n",
              "    </tr>\n",
              "    <tr>\n",
              "      <th>88586</th>\n",
              "      <td>2017-7-9</td>\n",
              "      <td>20:9:15:917932987</td>\n",
              "      <td>viktor</td>\n",
              "      <td>0</td>\n",
              "      <td>0</td>\n",
              "      <td>0.2590</td>\n",
              "      <td>-0.8582</td>\n",
              "      <td>-0.0759</td>\n",
              "      <td>-1.5165</td>\n",
              "      <td>0.4560</td>\n",
              "      <td>-1.7755</td>\n",
              "    </tr>\n",
              "    <tr>\n",
              "      <th>88587</th>\n",
              "      <td>2017-7-9</td>\n",
              "      <td>20:9:16:117410004</td>\n",
              "      <td>viktor</td>\n",
              "      <td>0</td>\n",
              "      <td>0</td>\n",
              "      <td>0.3140</td>\n",
              "      <td>-0.8008</td>\n",
              "      <td>-0.0911</td>\n",
              "      <td>0.1183</td>\n",
              "      <td>1.0850</td>\n",
              "      <td>1.2814</td>\n",
              "    </tr>\n",
              "  </tbody>\n",
              "</table>\n",
              "</div>"
            ],
            "text/plain": [
              "           date               time username  wrist  activity  acceleration_x  \\\n",
              "88583  2017-7-9  20:9:15:317911028   viktor      0         0          0.3084   \n",
              "88584  2017-7-9  20:9:15:517889022   viktor      0         0          0.4977   \n",
              "88585  2017-7-9  20:9:15:717828989   viktor      0         0          0.4587   \n",
              "88586  2017-7-9  20:9:15:917932987   viktor      0         0          0.2590   \n",
              "88587  2017-7-9  20:9:16:117410004   viktor      0         0          0.3140   \n",
              "\n",
              "       acceleration_y  acceleration_z  gyro_x  gyro_y  gyro_z  \n",
              "88583         -0.8376         -0.1327  0.4823  2.0124  0.6048  \n",
              "88584         -1.0027         -0.4397  0.1022 -1.2565 -0.0761  \n",
              "88585         -1.1780         -0.2827 -1.4500 -0.2792 -1.2616  \n",
              "88586         -0.8582         -0.0759 -1.5165  0.4560 -1.7755  \n",
              "88587         -0.8008         -0.0911  0.1183  1.0850  1.2814  "
            ]
          },
          "execution_count": 59,
          "metadata": {},
          "output_type": "execute_result"
        }
      ],
      "source": [
        "# Displaying the last 5 rows of the dataset using the 'head()' function\n",
        "data.tail()"
      ]
    },
    {
      "cell_type": "code",
      "execution_count": null,
      "id": "10c8a129",
      "metadata": {
        "id": "10c8a129",
        "outputId": "3e4789b7-ebe6-4169-d16f-ac43d0dbb8d4"
      },
      "outputs": [
        {
          "data": {
            "text/plain": [
              "Index(['date', 'time', 'username', 'wrist', 'activity', 'acceleration_x',\n",
              "       'acceleration_y', 'acceleration_z', 'gyro_x', 'gyro_y', 'gyro_z'],\n",
              "      dtype='object')"
            ]
          },
          "execution_count": 60,
          "metadata": {},
          "output_type": "execute_result"
        }
      ],
      "source": [
        "# Printing all the column from the dataframe\n",
        "\n",
        "data.columns"
      ]
    },
    {
      "cell_type": "code",
      "execution_count": null,
      "id": "401af56d",
      "metadata": {
        "id": "401af56d",
        "outputId": "7dfb07e9-9d7a-43b2-bcc7-2f7827577410"
      },
      "outputs": [
        {
          "data": {
            "text/plain": [
              "(88588, 11)"
            ]
          },
          "execution_count": 61,
          "metadata": {},
          "output_type": "execute_result"
        }
      ],
      "source": [
        "# Printing the number of rows and columns using the \"shape()\" function\n",
        "data.shape"
      ]
    },
    {
      "cell_type": "code",
      "execution_count": null,
      "id": "f8bf4aab",
      "metadata": {
        "id": "f8bf4aab",
        "outputId": "0a00b180-cc89-46ef-9eee-f9b9c9f3ed83"
      },
      "outputs": [
        {
          "name": "stdout",
          "output_type": "stream",
          "text": [
            "<class 'pandas.core.frame.DataFrame'>\n",
            "RangeIndex: 88588 entries, 0 to 88587\n",
            "Data columns (total 11 columns):\n",
            " #   Column          Non-Null Count  Dtype  \n",
            "---  ------          --------------  -----  \n",
            " 0   date            88588 non-null  object \n",
            " 1   time            88588 non-null  object \n",
            " 2   username        88588 non-null  object \n",
            " 3   wrist           88588 non-null  int64  \n",
            " 4   activity        88588 non-null  int64  \n",
            " 5   acceleration_x  88588 non-null  float64\n",
            " 6   acceleration_y  88588 non-null  float64\n",
            " 7   acceleration_z  88588 non-null  float64\n",
            " 8   gyro_x          88588 non-null  float64\n",
            " 9   gyro_y          88588 non-null  float64\n",
            " 10  gyro_z          88588 non-null  float64\n",
            "dtypes: float64(6), int64(2), object(3)\n",
            "memory usage: 7.4+ MB\n"
          ]
        }
      ],
      "source": [
        "# Basic information about the dataset\n",
        "data.info()"
      ]
    },
    {
      "cell_type": "code",
      "execution_count": null,
      "id": "280ff780",
      "metadata": {
        "id": "280ff780",
        "outputId": "97219bbe-b050-4e7f-cb1e-200c86ec1f6f"
      },
      "outputs": [
        {
          "data": {
            "text/plain": [
              "date              0\n",
              "time              0\n",
              "username          0\n",
              "wrist             0\n",
              "activity          0\n",
              "acceleration_x    0\n",
              "acceleration_y    0\n",
              "acceleration_z    0\n",
              "gyro_x            0\n",
              "gyro_y            0\n",
              "gyro_z            0\n",
              "dtype: int64"
            ]
          },
          "execution_count": 63,
          "metadata": {},
          "output_type": "execute_result"
        }
      ],
      "source": [
        "# Checking for null values\n",
        "\n",
        "data.isnull().sum()"
      ]
    },
    {
      "cell_type": "code",
      "execution_count": null,
      "id": "70b8f1b2",
      "metadata": {
        "id": "70b8f1b2",
        "outputId": "82560ee9-8a96-4e1a-9f09-87fac47e931a"
      },
      "outputs": [
        {
          "data": {
            "text/html": [
              "<div>\n",
              "<style scoped>\n",
              "    .dataframe tbody tr th:only-of-type {\n",
              "        vertical-align: middle;\n",
              "    }\n",
              "\n",
              "    .dataframe tbody tr th {\n",
              "        vertical-align: top;\n",
              "    }\n",
              "\n",
              "    .dataframe thead th {\n",
              "        text-align: right;\n",
              "    }\n",
              "</style>\n",
              "<table border=\"1\" class=\"dataframe\">\n",
              "  <thead>\n",
              "    <tr style=\"text-align: right;\">\n",
              "      <th></th>\n",
              "      <th>date</th>\n",
              "      <th>time</th>\n",
              "      <th>username</th>\n",
              "    </tr>\n",
              "  </thead>\n",
              "  <tbody>\n",
              "    <tr>\n",
              "      <th>count</th>\n",
              "      <td>88588</td>\n",
              "      <td>88588</td>\n",
              "      <td>88588</td>\n",
              "    </tr>\n",
              "    <tr>\n",
              "      <th>unique</th>\n",
              "      <td>12</td>\n",
              "      <td>88588</td>\n",
              "      <td>1</td>\n",
              "    </tr>\n",
              "    <tr>\n",
              "      <th>top</th>\n",
              "      <td>2017-7-16</td>\n",
              "      <td>13:51:15:847724020</td>\n",
              "      <td>viktor</td>\n",
              "    </tr>\n",
              "    <tr>\n",
              "      <th>freq</th>\n",
              "      <td>20480</td>\n",
              "      <td>1</td>\n",
              "      <td>88588</td>\n",
              "    </tr>\n",
              "  </tbody>\n",
              "</table>\n",
              "</div>"
            ],
            "text/plain": [
              "             date                time username\n",
              "count       88588               88588    88588\n",
              "unique         12               88588        1\n",
              "top     2017-7-16  13:51:15:847724020   viktor\n",
              "freq        20480                   1    88588"
            ]
          },
          "execution_count": 64,
          "metadata": {},
          "output_type": "execute_result"
        }
      ],
      "source": [
        "# It will discribe all the characters\n",
        "\n",
        "data.describe(include=['O'])"
      ]
    },
    {
      "cell_type": "code",
      "execution_count": null,
      "id": "d71ccc09",
      "metadata": {
        "id": "d71ccc09",
        "outputId": "9276a8ed-3ee6-4713-842c-a9bda58b4f98"
      },
      "outputs": [
        {
          "data": {
            "text/html": [
              "<div>\n",
              "<style scoped>\n",
              "    .dataframe tbody tr th:only-of-type {\n",
              "        vertical-align: middle;\n",
              "    }\n",
              "\n",
              "    .dataframe tbody tr th {\n",
              "        vertical-align: top;\n",
              "    }\n",
              "\n",
              "    .dataframe thead th {\n",
              "        text-align: right;\n",
              "    }\n",
              "</style>\n",
              "<table border=\"1\" class=\"dataframe\">\n",
              "  <thead>\n",
              "    <tr style=\"text-align: right;\">\n",
              "      <th></th>\n",
              "      <th>count</th>\n",
              "      <th>mean</th>\n",
              "      <th>std</th>\n",
              "      <th>min</th>\n",
              "      <th>25%</th>\n",
              "      <th>50%</th>\n",
              "      <th>75%</th>\n",
              "      <th>max</th>\n",
              "    </tr>\n",
              "  </thead>\n",
              "  <tbody>\n",
              "    <tr>\n",
              "      <th>wrist</th>\n",
              "      <td>88588.0</td>\n",
              "      <td>0.522170</td>\n",
              "      <td>0.499511</td>\n",
              "      <td>0.0000</td>\n",
              "      <td>0.000000</td>\n",
              "      <td>1.0000</td>\n",
              "      <td>1.000000</td>\n",
              "      <td>1.0000</td>\n",
              "    </tr>\n",
              "    <tr>\n",
              "      <th>activity</th>\n",
              "      <td>88588.0</td>\n",
              "      <td>0.500801</td>\n",
              "      <td>0.500002</td>\n",
              "      <td>0.0000</td>\n",
              "      <td>0.000000</td>\n",
              "      <td>1.0000</td>\n",
              "      <td>1.000000</td>\n",
              "      <td>1.0000</td>\n",
              "    </tr>\n",
              "    <tr>\n",
              "      <th>acceleration_x</th>\n",
              "      <td>88588.0</td>\n",
              "      <td>-0.074811</td>\n",
              "      <td>1.009299</td>\n",
              "      <td>-5.3505</td>\n",
              "      <td>-0.381800</td>\n",
              "      <td>-0.0595</td>\n",
              "      <td>0.355500</td>\n",
              "      <td>5.6033</td>\n",
              "    </tr>\n",
              "    <tr>\n",
              "      <th>acceleration_y</th>\n",
              "      <td>88588.0</td>\n",
              "      <td>-0.562585</td>\n",
              "      <td>0.658458</td>\n",
              "      <td>-3.2990</td>\n",
              "      <td>-1.033500</td>\n",
              "      <td>-0.7591</td>\n",
              "      <td>-0.241775</td>\n",
              "      <td>2.6680</td>\n",
              "    </tr>\n",
              "    <tr>\n",
              "      <th>acceleration_z</th>\n",
              "      <td>88588.0</td>\n",
              "      <td>-0.313956</td>\n",
              "      <td>0.486815</td>\n",
              "      <td>-3.7538</td>\n",
              "      <td>-0.376000</td>\n",
              "      <td>-0.2210</td>\n",
              "      <td>-0.085900</td>\n",
              "      <td>1.6403</td>\n",
              "    </tr>\n",
              "    <tr>\n",
              "      <th>gyro_x</th>\n",
              "      <td>88588.0</td>\n",
              "      <td>0.004160</td>\n",
              "      <td>1.253423</td>\n",
              "      <td>-4.4306</td>\n",
              "      <td>-0.920700</td>\n",
              "      <td>0.0187</td>\n",
              "      <td>0.888800</td>\n",
              "      <td>4.8742</td>\n",
              "    </tr>\n",
              "    <tr>\n",
              "      <th>gyro_y</th>\n",
              "      <td>88588.0</td>\n",
              "      <td>0.037203</td>\n",
              "      <td>1.198725</td>\n",
              "      <td>-7.4647</td>\n",
              "      <td>-0.644825</td>\n",
              "      <td>0.0393</td>\n",
              "      <td>0.733700</td>\n",
              "      <td>8.4980</td>\n",
              "    </tr>\n",
              "    <tr>\n",
              "      <th>gyro_z</th>\n",
              "      <td>88588.0</td>\n",
              "      <td>0.022327</td>\n",
              "      <td>1.914423</td>\n",
              "      <td>-9.4800</td>\n",
              "      <td>-1.345125</td>\n",
              "      <td>0.0069</td>\n",
              "      <td>1.398200</td>\n",
              "      <td>11.2662</td>\n",
              "    </tr>\n",
              "  </tbody>\n",
              "</table>\n",
              "</div>"
            ],
            "text/plain": [
              "                  count      mean       std     min       25%     50%  \\\n",
              "wrist           88588.0  0.522170  0.499511  0.0000  0.000000  1.0000   \n",
              "activity        88588.0  0.500801  0.500002  0.0000  0.000000  1.0000   \n",
              "acceleration_x  88588.0 -0.074811  1.009299 -5.3505 -0.381800 -0.0595   \n",
              "acceleration_y  88588.0 -0.562585  0.658458 -3.2990 -1.033500 -0.7591   \n",
              "acceleration_z  88588.0 -0.313956  0.486815 -3.7538 -0.376000 -0.2210   \n",
              "gyro_x          88588.0  0.004160  1.253423 -4.4306 -0.920700  0.0187   \n",
              "gyro_y          88588.0  0.037203  1.198725 -7.4647 -0.644825  0.0393   \n",
              "gyro_z          88588.0  0.022327  1.914423 -9.4800 -1.345125  0.0069   \n",
              "\n",
              "                     75%      max  \n",
              "wrist           1.000000   1.0000  \n",
              "activity        1.000000   1.0000  \n",
              "acceleration_x  0.355500   5.6033  \n",
              "acceleration_y -0.241775   2.6680  \n",
              "acceleration_z -0.085900   1.6403  \n",
              "gyro_x          0.888800   4.8742  \n",
              "gyro_y          0.733700   8.4980  \n",
              "gyro_z          1.398200  11.2662  "
            ]
          },
          "execution_count": 65,
          "metadata": {},
          "output_type": "execute_result"
        }
      ],
      "source": [
        "# Getting Statistical data from the dataset\n",
        "data.describe().T"
      ]
    },
    {
      "cell_type": "code",
      "execution_count": null,
      "id": "9fdc2d13",
      "metadata": {
        "id": "9fdc2d13",
        "outputId": "e676c7d8-804d-4a40-dfda-1ab25e81b943"
      },
      "outputs": [
        {
          "data": {
            "text/plain": [
              "date              0\n",
              "time              0\n",
              "username          0\n",
              "wrist             0\n",
              "activity          0\n",
              "acceleration_x    0\n",
              "acceleration_y    0\n",
              "acceleration_z    0\n",
              "gyro_x            0\n",
              "gyro_y            0\n",
              "gyro_z            0\n",
              "dtype: int64"
            ]
          },
          "execution_count": 66,
          "metadata": {},
          "output_type": "execute_result"
        }
      ],
      "source": [
        "# Checking for null values\n",
        "\n",
        "data.isnull().sum()"
      ]
    },
    {
      "cell_type": "code",
      "execution_count": null,
      "id": "ad607a92",
      "metadata": {
        "id": "ad607a92",
        "outputId": "92df12ab-c956-4845-ea0a-e983b34ca6ab"
      },
      "outputs": [
        {
          "data": {
            "text/plain": [
              "1    44365\n",
              "0    44223\n",
              "Name: activity, dtype: int64"
            ]
          },
          "execution_count": 67,
          "metadata": {},
          "output_type": "execute_result"
        }
      ],
      "source": [
        "data.activity.value_counts()"
      ]
    },
    {
      "cell_type": "code",
      "execution_count": null,
      "id": "5b97dcec",
      "metadata": {
        "id": "5b97dcec",
        "outputId": "30b8fb1c-0e24-4610-aee9-8489be5b38ee"
      },
      "outputs": [
        {
          "data": {
            "text/plain": [
              "False"
            ]
          },
          "execution_count": 68,
          "metadata": {},
          "output_type": "execute_result"
        }
      ],
      "source": [
        "# Check null values\n",
        "\n",
        "data.isnull().values.any()"
      ]
    },
    {
      "cell_type": "code",
      "execution_count": null,
      "id": "1c9aefa9",
      "metadata": {
        "id": "1c9aefa9"
      },
      "outputs": [],
      "source": [
        "# define columns\n",
        "features=[feature for feature in data.columns if data[feature].dtype == 'O']"
      ]
    },
    {
      "cell_type": "code",
      "execution_count": null,
      "id": "ddf42036",
      "metadata": {
        "id": "ddf42036",
        "outputId": "86bf8d68-f347-47f5-ef39-e6a021896ba1"
      },
      "outputs": [
        {
          "name": "stdout",
          "output_type": "stream",
          "text": [
            "2017-7-16    20480\n",
            "2017-7-17    11365\n",
            "2017-7-6     11357\n",
            "2017-7-15     7934\n",
            "2017-7-9      7788\n",
            "2017-7-11     6696\n",
            "2017-7-10     4337\n",
            "2017-7-1      4201\n",
            "2017-6-30     3992\n",
            "2017-7-2      3933\n",
            "2017-7-7      3280\n",
            "2017-7-4      3225\n",
            "Name: date, dtype: int64\n",
            "----------------------------\n",
            "13:51:15:847724020    1\n",
            "19:34:29:79468011     1\n",
            "19:34:37:706730008    1\n",
            "19:34:37:506595015    1\n",
            "19:34:37:307013988    1\n",
            "                     ..\n",
            "14:45:22:828522980    1\n",
            "14:45:22:629136979    1\n",
            "14:45:22:429431974    1\n",
            "14:45:22:229138970    1\n",
            "20:9:16:117410004     1\n",
            "Name: time, Length: 88588, dtype: int64\n",
            "----------------------------\n",
            "viktor    88588\n",
            "Name: username, dtype: int64\n",
            "----------------------------\n"
          ]
        }
      ],
      "source": [
        "# proportion of count data of each categorical columns\n",
        "\n",
        "for col in features:\n",
        "    print(data[col].value_counts())\n",
        "    print('----------------------------')"
      ]
    },
    {
      "cell_type": "markdown",
      "id": "27ade52a",
      "metadata": {
        "id": "27ade52a"
      },
      "source": [
        "# Exploratory Data Analysis"
      ]
    },
    {
      "cell_type": "markdown",
      "id": "9cb4c9f3",
      "metadata": {
        "id": "9cb4c9f3"
      },
      "source": [
        "### Univariant analysis"
      ]
    },
    {
      "cell_type": "code",
      "execution_count": null,
      "id": "c760c3cc",
      "metadata": {
        "scrolled": true,
        "id": "c760c3cc",
        "outputId": "8d7421ff-ace5-4c27-fd76-b761b56740b6"
      },
      "outputs": [
        {
          "data": {
            "text/plain": [
              "Index(['date', 'time', 'username', 'wrist', 'activity', 'acceleration_x',\n",
              "       'acceleration_y', 'acceleration_z', 'gyro_x', 'gyro_y', 'gyro_z'],\n",
              "      dtype='object')"
            ]
          },
          "execution_count": 71,
          "metadata": {},
          "output_type": "execute_result"
        }
      ],
      "source": [
        "data.columns"
      ]
    },
    {
      "cell_type": "code",
      "execution_count": null,
      "id": "90c1557b",
      "metadata": {
        "scrolled": false,
        "id": "90c1557b",
        "outputId": "f4da872f-bfe2-4114-bbfa-544c14ccb4b3"
      },
      "outputs": [
        {
          "data": {
            "text/html": [
              "<div>\n",
              "<style scoped>\n",
              "    .dataframe tbody tr th:only-of-type {\n",
              "        vertical-align: middle;\n",
              "    }\n",
              "\n",
              "    .dataframe tbody tr th {\n",
              "        vertical-align: top;\n",
              "    }\n",
              "\n",
              "    .dataframe thead th {\n",
              "        text-align: right;\n",
              "    }\n",
              "</style>\n",
              "<table border=\"1\" class=\"dataframe\">\n",
              "  <thead>\n",
              "    <tr style=\"text-align: right;\">\n",
              "      <th></th>\n",
              "      <th>wrist</th>\n",
              "      <th>acceleration_x</th>\n",
              "      <th>acceleration_y</th>\n",
              "      <th>acceleration_z</th>\n",
              "      <th>gyro_x</th>\n",
              "      <th>gyro_y</th>\n",
              "      <th>gyro_z</th>\n",
              "    </tr>\n",
              "  </thead>\n",
              "  <tbody>\n",
              "    <tr>\n",
              "      <th>0</th>\n",
              "      <td>0</td>\n",
              "      <td>0.2650</td>\n",
              "      <td>-0.7814</td>\n",
              "      <td>-0.0076</td>\n",
              "      <td>-0.0590</td>\n",
              "      <td>0.0325</td>\n",
              "      <td>-2.9296</td>\n",
              "    </tr>\n",
              "    <tr>\n",
              "      <th>1</th>\n",
              "      <td>0</td>\n",
              "      <td>0.6722</td>\n",
              "      <td>-1.1233</td>\n",
              "      <td>-0.2344</td>\n",
              "      <td>-0.1757</td>\n",
              "      <td>0.0208</td>\n",
              "      <td>0.1269</td>\n",
              "    </tr>\n",
              "    <tr>\n",
              "      <th>2</th>\n",
              "      <td>0</td>\n",
              "      <td>0.4399</td>\n",
              "      <td>-1.4817</td>\n",
              "      <td>0.0722</td>\n",
              "      <td>-0.9105</td>\n",
              "      <td>0.1063</td>\n",
              "      <td>-2.4367</td>\n",
              "    </tr>\n",
              "    <tr>\n",
              "      <th>3</th>\n",
              "      <td>0</td>\n",
              "      <td>0.3031</td>\n",
              "      <td>-0.8125</td>\n",
              "      <td>0.0888</td>\n",
              "      <td>0.1199</td>\n",
              "      <td>-0.4099</td>\n",
              "      <td>-2.9336</td>\n",
              "    </tr>\n",
              "    <tr>\n",
              "      <th>4</th>\n",
              "      <td>0</td>\n",
              "      <td>0.4814</td>\n",
              "      <td>-0.9312</td>\n",
              "      <td>0.0359</td>\n",
              "      <td>0.0527</td>\n",
              "      <td>0.4379</td>\n",
              "      <td>2.4922</td>\n",
              "    </tr>\n",
              "  </tbody>\n",
              "</table>\n",
              "</div>"
            ],
            "text/plain": [
              "   wrist  acceleration_x  acceleration_y  acceleration_z  gyro_x  gyro_y  \\\n",
              "0      0          0.2650         -0.7814         -0.0076 -0.0590  0.0325   \n",
              "1      0          0.6722         -1.1233         -0.2344 -0.1757  0.0208   \n",
              "2      0          0.4399         -1.4817          0.0722 -0.9105  0.1063   \n",
              "3      0          0.3031         -0.8125          0.0888  0.1199 -0.4099   \n",
              "4      0          0.4814         -0.9312          0.0359  0.0527  0.4379   \n",
              "\n",
              "   gyro_z  \n",
              "0 -2.9296  \n",
              "1  0.1269  \n",
              "2 -2.4367  \n",
              "3 -2.9336  \n",
              "4  2.4922  "
            ]
          },
          "execution_count": 72,
          "metadata": {},
          "output_type": "execute_result"
        }
      ],
      "source": [
        "data1 = data[['wrist', 'acceleration_x',\n",
        "       'acceleration_y', 'acceleration_z', 'gyro_x', 'gyro_y', 'gyro_z']]\n",
        "data1.head()"
      ]
    },
    {
      "cell_type": "code",
      "execution_count": null,
      "id": "9b28d336",
      "metadata": {
        "id": "9b28d336",
        "outputId": "60d26abe-8994-4b49-9834-aaedbb3154b9"
      },
      "outputs": [
        {
          "data": {
            "image/png": "[encoded data removed]",
            "text/plain": [
              "<Figure size 1000x1000 with 7 Axes>"
            ]
          },
          "metadata": {},
          "output_type": "display_data"
        }
      ],
      "source": [
        "plt.figure(figsize = (10,10))\n",
        "plotnumber = 1\n",
        "\n",
        "for i in data1:\n",
        "    plt.subplot(3, 3, plotnumber)\n",
        "    sns.histplot(data1[i], kde = True)\n",
        "    plotnumber = plotnumber + 1\n",
        "plt.tight_layout()"
      ]
    },
    {
      "cell_type": "markdown",
      "id": "d911b5e6",
      "metadata": {
        "id": "d911b5e6"
      },
      "source": [
        "*  Walking and Running Data distribution in histplot all distribution is peaked and possesses thick tails. It indicates a all Data distribution in kurtosis"
      ]
    },
    {
      "cell_type": "markdown",
      "id": "d02805ce",
      "metadata": {
        "id": "d02805ce"
      },
      "source": [
        "### Bivariate analysis"
      ]
    },
    {
      "cell_type": "code",
      "execution_count": null,
      "id": "408776df",
      "metadata": {
        "id": "408776df",
        "outputId": "78a71604-3974-4431-c392-464560191eb4"
      },
      "outputs": [
        {
          "data": {
            "image/png": "[encoded data removed]",
            "text/plain": [
              "<Figure size 1000x1000 with 7 Axes>"
            ]
          },
          "metadata": {},
          "output_type": "display_data"
        }
      ],
      "source": [
        "plt.figure(figsize = (10,10))\n",
        "plotnumber = 1\n",
        "\n",
        "for i in data1:\n",
        "    plt.subplot(3, 3, plotnumber)\n",
        "    sns.histplot(x = data1[i], hue = data.activity)\n",
        "    plotnumber = plotnumber + 1\n",
        "plt.tight_layout()"
      ]
    },
    {
      "cell_type": "markdown",
      "id": "b03b7dd4",
      "metadata": {
        "id": "b03b7dd4"
      },
      "source": [
        "* wrist, acceleration_x, acceleration_y, acceleration_z, gyro_x, gyro_y, gyro_z Data distribution for Activity"
      ]
    },
    {
      "cell_type": "markdown",
      "id": "f632464c",
      "metadata": {
        "id": "f632464c"
      },
      "source": [
        "* gyro_x and Activity are almost over laping eatch other"
      ]
    },
    {
      "cell_type": "markdown",
      "id": "94fa91d8",
      "metadata": {
        "id": "94fa91d8"
      },
      "source": [
        "# 7] Data preprocessing"
      ]
    },
    {
      "cell_type": "markdown",
      "id": "68b7204e",
      "metadata": {
        "id": "68b7204e"
      },
      "source": [
        "#### Find missing values"
      ]
    },
    {
      "cell_type": "code",
      "execution_count": null,
      "id": "6217f7ef",
      "metadata": {
        "id": "6217f7ef",
        "outputId": "2f42446b-c0f6-419d-a31e-9cd1cbad3b52"
      },
      "outputs": [
        {
          "data": {
            "text/plain": [
              "date              0\n",
              "time              0\n",
              "username          0\n",
              "wrist             0\n",
              "activity          0\n",
              "acceleration_x    0\n",
              "acceleration_y    0\n",
              "acceleration_z    0\n",
              "gyro_x            0\n",
              "gyro_y            0\n",
              "gyro_z            0\n",
              "dtype: int64"
            ]
          },
          "execution_count": 76,
          "metadata": {},
          "output_type": "execute_result"
        }
      ],
      "source": [
        "data.isnull().sum()"
      ]
    },
    {
      "cell_type": "code",
      "execution_count": null,
      "id": "1f603ec4",
      "metadata": {
        "id": "1f603ec4",
        "outputId": "ff392e8e-2fa9-4fc3-b59d-c4ab816c3498"
      },
      "outputs": [
        {
          "data": {
            "text/html": [
              "<div>\n",
              "<style scoped>\n",
              "    .dataframe tbody tr th:only-of-type {\n",
              "        vertical-align: middle;\n",
              "    }\n",
              "\n",
              "    .dataframe tbody tr th {\n",
              "        vertical-align: top;\n",
              "    }\n",
              "\n",
              "    .dataframe thead th {\n",
              "        text-align: right;\n",
              "    }\n",
              "</style>\n",
              "<table border=\"1\" class=\"dataframe\">\n",
              "  <thead>\n",
              "    <tr style=\"text-align: right;\">\n",
              "      <th></th>\n",
              "      <th>date</th>\n",
              "      <th>time</th>\n",
              "      <th>username</th>\n",
              "      <th>wrist</th>\n",
              "      <th>activity</th>\n",
              "      <th>acceleration_x</th>\n",
              "      <th>acceleration_y</th>\n",
              "      <th>acceleration_z</th>\n",
              "      <th>gyro_x</th>\n",
              "      <th>gyro_y</th>\n",
              "      <th>gyro_z</th>\n",
              "    </tr>\n",
              "  </thead>\n",
              "  <tbody>\n",
              "  </tbody>\n",
              "</table>\n",
              "</div>"
            ],
            "text/plain": [
              "Empty DataFrame\n",
              "Columns: [date, time, username, wrist, activity, acceleration_x, acceleration_y, acceleration_z, gyro_x, gyro_y, gyro_z]\n",
              "Index: []"
            ]
          },
          "execution_count": 77,
          "metadata": {},
          "output_type": "execute_result"
        }
      ],
      "source": [
        "# checking for the duplicated values\n",
        "\n",
        "data.loc[data.duplicated()]"
      ]
    },
    {
      "cell_type": "markdown",
      "id": "216b1ef8",
      "metadata": {
        "id": "216b1ef8"
      },
      "source": [
        "* There is no null values"
      ]
    },
    {
      "cell_type": "markdown",
      "id": "f28b7d91",
      "metadata": {
        "id": "f28b7d91"
      },
      "source": [
        "### Handling with out layers"
      ]
    },
    {
      "cell_type": "code",
      "execution_count": null,
      "id": "598f8ece",
      "metadata": {
        "id": "598f8ece",
        "outputId": "e5c960c1-4cd0-4b4f-900c-6fa7c0553c30"
      },
      "outputs": [
        {
          "data": {
            "text/plain": [
              "<Axes: xlabel='wrist'>"
            ]
          },
          "execution_count": 78,
          "metadata": {},
          "output_type": "execute_result"
        },
        {
          "data": {
            "image/png": "[encoded data removed]",
            "text/plain": [
              "<Figure size 640x480 with 1 Axes>"
            ]
          },
          "metadata": {},
          "output_type": "display_data"
        }
      ],
      "source": [
        "sns.boxplot(x = data ['wrist'])"
      ]
    },
    {
      "cell_type": "code",
      "execution_count": null,
      "id": "b862ac1f",
      "metadata": {
        "id": "b862ac1f",
        "outputId": "1154da24-daa8-4bde-c706-fd68610b9326"
      },
      "outputs": [
        {
          "data": {
            "text/plain": [
              "<Axes: xlabel='wrist'>"
            ]
          },
          "execution_count": 79,
          "metadata": {},
          "output_type": "execute_result"
        },
        {
          "data": {
            "image/png": "[encoded data removed]",
            "text/plain": [
              "<Figure size 640x480 with 1 Axes>"
            ]
          },
          "metadata": {},
          "output_type": "display_data"
        }
      ],
      "source": [
        "sns.boxplot(x = data ['wrist'])"
      ]
    },
    {
      "cell_type": "code",
      "execution_count": null,
      "id": "bf9bb4af",
      "metadata": {
        "id": "bf9bb4af",
        "outputId": "aa60c89d-0d31-4058-de33-9c2aa2d89a60"
      },
      "outputs": [
        {
          "data": {
            "text/plain": [
              "<Axes: xlabel='acceleration_x'>"
            ]
          },
          "execution_count": 80,
          "metadata": {},
          "output_type": "execute_result"
        },
        {
          "data": {
            "image/png": "[encoded data removed]",
            "text/plain": [
              "<Figure size 640x480 with 1 Axes>"
            ]
          },
          "metadata": {},
          "output_type": "display_data"
        }
      ],
      "source": [
        "sns.boxplot(x = data ['acceleration_x'])"
      ]
    },
    {
      "cell_type": "code",
      "execution_count": null,
      "id": "cd99e96c",
      "metadata": {
        "id": "cd99e96c",
        "outputId": "961e34f9-1138-44c3-c5b5-b75dd2946012"
      },
      "outputs": [
        {
          "data": {
            "text/plain": [
              "<Axes: xlabel='acceleration_y'>"
            ]
          },
          "execution_count": 81,
          "metadata": {},
          "output_type": "execute_result"
        },
        {
          "data": {
            "image/png": "[encoded data removed]",
            "text/plain": [
              "<Figure size 640x480 with 1 Axes>"
            ]
          },
          "metadata": {},
          "output_type": "display_data"
        }
      ],
      "source": [
        "sns.boxplot(x = data ['acceleration_y'])"
      ]
    },
    {
      "cell_type": "code",
      "execution_count": null,
      "id": "55c883e0",
      "metadata": {
        "id": "55c883e0",
        "outputId": "b518635a-523b-4448-9a5c-426f965504d4"
      },
      "outputs": [
        {
          "data": {
            "text/plain": [
              "<Axes: xlabel='acceleration_z'>"
            ]
          },
          "execution_count": 82,
          "metadata": {},
          "output_type": "execute_result"
        },
        {
          "data": {
            "image/png": "[encoded data removed]",
            "text/plain": [
              "<Figure size 640x480 with 1 Axes>"
            ]
          },
          "metadata": {},
          "output_type": "display_data"
        }
      ],
      "source": [
        "sns.boxplot(x = data ['acceleration_z'])"
      ]
    },
    {
      "cell_type": "code",
      "execution_count": null,
      "id": "4eb6937d",
      "metadata": {
        "id": "4eb6937d",
        "outputId": "956b50ac-a90f-495b-eb83-fdf78c282190"
      },
      "outputs": [
        {
          "data": {
            "text/plain": [
              "<Axes: xlabel='gyro_x'>"
            ]
          },
          "execution_count": 83,
          "metadata": {},
          "output_type": "execute_result"
        },
        {
          "data": {
            "image/png": "[encoded data removed]",
            "text/plain": [
              "<Figure size 640x480 with 1 Axes>"
            ]
          },
          "metadata": {},
          "output_type": "display_data"
        }
      ],
      "source": [
        "sns.boxplot(x = data ['gyro_x'])"
      ]
    },
    {
      "cell_type": "code",
      "execution_count": null,
      "id": "eeeac956",
      "metadata": {
        "id": "eeeac956",
        "outputId": "b159ee6d-c609-4e69-a93d-7d732b4e2c4d"
      },
      "outputs": [
        {
          "data": {
            "text/plain": [
              "<Axes: xlabel='gyro_y'>"
            ]
          },
          "execution_count": 84,
          "metadata": {},
          "output_type": "execute_result"
        },
        {
          "data": {
            "image/png": "[encoded data removed]",
            "text/plain": [
              "<Figure size 640x480 with 1 Axes>"
            ]
          },
          "metadata": {},
          "output_type": "display_data"
        }
      ],
      "source": [
        "sns.boxplot(x = data ['gyro_y'])"
      ]
    },
    {
      "cell_type": "code",
      "execution_count": null,
      "id": "fbd2e4f3",
      "metadata": {
        "id": "fbd2e4f3",
        "outputId": "8cc735a1-2c87-4c04-a842-5f50a1fba423"
      },
      "outputs": [
        {
          "data": {
            "text/plain": [
              "<Axes: xlabel='gyro_z'>"
            ]
          },
          "execution_count": 85,
          "metadata": {},
          "output_type": "execute_result"
        },
        {
          "data": {
            "image/png": "[encoded data removed]",
            "text/plain": [
              "<Figure size 640x480 with 1 Axes>"
            ]
          },
          "metadata": {},
          "output_type": "display_data"
        }
      ],
      "source": [
        "sns.boxplot(x = data ['gyro_z'])"
      ]
    },
    {
      "cell_type": "markdown",
      "id": "84269327",
      "metadata": {
        "id": "84269327"
      },
      "source": [
        "* no outlayers all data point looks in cluster"
      ]
    },
    {
      "cell_type": "markdown",
      "id": "1e9a2364",
      "metadata": {
        "id": "1e9a2364"
      },
      "source": [
        "### Droping unwanted columns"
      ]
    },
    {
      "cell_type": "code",
      "execution_count": null,
      "id": "75c9e4c3",
      "metadata": {
        "id": "75c9e4c3"
      },
      "outputs": [],
      "source": [
        "data.drop('date',axis=1,inplace=True)\n",
        "data.drop('time',axis=1,inplace=True)\n",
        "data.drop('username',axis=1,inplace=True)"
      ]
    },
    {
      "cell_type": "code",
      "execution_count": null,
      "id": "0f2e0414",
      "metadata": {
        "scrolled": false,
        "id": "0f2e0414",
        "outputId": "8d5efddf-c52b-4d9a-981b-efa615b1a990"
      },
      "outputs": [
        {
          "data": {
            "text/html": [
              "<div>\n",
              "<style scoped>\n",
              "    .dataframe tbody tr th:only-of-type {\n",
              "        vertical-align: middle;\n",
              "    }\n",
              "\n",
              "    .dataframe tbody tr th {\n",
              "        vertical-align: top;\n",
              "    }\n",
              "\n",
              "    .dataframe thead th {\n",
              "        text-align: right;\n",
              "    }\n",
              "</style>\n",
              "<table border=\"1\" class=\"dataframe\">\n",
              "  <thead>\n",
              "    <tr style=\"text-align: right;\">\n",
              "      <th></th>\n",
              "      <th>wrist</th>\n",
              "      <th>activity</th>\n",
              "      <th>acceleration_x</th>\n",
              "      <th>acceleration_y</th>\n",
              "      <th>acceleration_z</th>\n",
              "      <th>gyro_x</th>\n",
              "      <th>gyro_y</th>\n",
              "      <th>gyro_z</th>\n",
              "    </tr>\n",
              "  </thead>\n",
              "  <tbody>\n",
              "    <tr>\n",
              "      <th>0</th>\n",
              "      <td>0</td>\n",
              "      <td>0</td>\n",
              "      <td>0.2650</td>\n",
              "      <td>-0.7814</td>\n",
              "      <td>-0.0076</td>\n",
              "      <td>-0.0590</td>\n",
              "      <td>0.0325</td>\n",
              "      <td>-2.9296</td>\n",
              "    </tr>\n",
              "    <tr>\n",
              "      <th>1</th>\n",
              "      <td>0</td>\n",
              "      <td>0</td>\n",
              "      <td>0.6722</td>\n",
              "      <td>-1.1233</td>\n",
              "      <td>-0.2344</td>\n",
              "      <td>-0.1757</td>\n",
              "      <td>0.0208</td>\n",
              "      <td>0.1269</td>\n",
              "    </tr>\n",
              "    <tr>\n",
              "      <th>2</th>\n",
              "      <td>0</td>\n",
              "      <td>0</td>\n",
              "      <td>0.4399</td>\n",
              "      <td>-1.4817</td>\n",
              "      <td>0.0722</td>\n",
              "      <td>-0.9105</td>\n",
              "      <td>0.1063</td>\n",
              "      <td>-2.4367</td>\n",
              "    </tr>\n",
              "    <tr>\n",
              "      <th>3</th>\n",
              "      <td>0</td>\n",
              "      <td>0</td>\n",
              "      <td>0.3031</td>\n",
              "      <td>-0.8125</td>\n",
              "      <td>0.0888</td>\n",
              "      <td>0.1199</td>\n",
              "      <td>-0.4099</td>\n",
              "      <td>-2.9336</td>\n",
              "    </tr>\n",
              "    <tr>\n",
              "      <th>4</th>\n",
              "      <td>0</td>\n",
              "      <td>0</td>\n",
              "      <td>0.4814</td>\n",
              "      <td>-0.9312</td>\n",
              "      <td>0.0359</td>\n",
              "      <td>0.0527</td>\n",
              "      <td>0.4379</td>\n",
              "      <td>2.4922</td>\n",
              "    </tr>\n",
              "    <tr>\n",
              "      <th>...</th>\n",
              "      <td>...</td>\n",
              "      <td>...</td>\n",
              "      <td>...</td>\n",
              "      <td>...</td>\n",
              "      <td>...</td>\n",
              "      <td>...</td>\n",
              "      <td>...</td>\n",
              "      <td>...</td>\n",
              "    </tr>\n",
              "    <tr>\n",
              "      <th>88583</th>\n",
              "      <td>0</td>\n",
              "      <td>0</td>\n",
              "      <td>0.3084</td>\n",
              "      <td>-0.8376</td>\n",
              "      <td>-0.1327</td>\n",
              "      <td>0.4823</td>\n",
              "      <td>2.0124</td>\n",
              "      <td>0.6048</td>\n",
              "    </tr>\n",
              "    <tr>\n",
              "      <th>88584</th>\n",
              "      <td>0</td>\n",
              "      <td>0</td>\n",
              "      <td>0.4977</td>\n",
              "      <td>-1.0027</td>\n",
              "      <td>-0.4397</td>\n",
              "      <td>0.1022</td>\n",
              "      <td>-1.2565</td>\n",
              "      <td>-0.0761</td>\n",
              "    </tr>\n",
              "    <tr>\n",
              "      <th>88585</th>\n",
              "      <td>0</td>\n",
              "      <td>0</td>\n",
              "      <td>0.4587</td>\n",
              "      <td>-1.1780</td>\n",
              "      <td>-0.2827</td>\n",
              "      <td>-1.4500</td>\n",
              "      <td>-0.2792</td>\n",
              "      <td>-1.2616</td>\n",
              "    </tr>\n",
              "    <tr>\n",
              "      <th>88586</th>\n",
              "      <td>0</td>\n",
              "      <td>0</td>\n",
              "      <td>0.2590</td>\n",
              "      <td>-0.8582</td>\n",
              "      <td>-0.0759</td>\n",
              "      <td>-1.5165</td>\n",
              "      <td>0.4560</td>\n",
              "      <td>-1.7755</td>\n",
              "    </tr>\n",
              "    <tr>\n",
              "      <th>88587</th>\n",
              "      <td>0</td>\n",
              "      <td>0</td>\n",
              "      <td>0.3140</td>\n",
              "      <td>-0.8008</td>\n",
              "      <td>-0.0911</td>\n",
              "      <td>0.1183</td>\n",
              "      <td>1.0850</td>\n",
              "      <td>1.2814</td>\n",
              "    </tr>\n",
              "  </tbody>\n",
              "</table>\n",
              "<p>88588 rows × 8 columns</p>\n",
              "</div>"
            ],
            "text/plain": [
              "       wrist  activity  acceleration_x  acceleration_y  acceleration_z  \\\n",
              "0          0         0          0.2650         -0.7814         -0.0076   \n",
              "1          0         0          0.6722         -1.1233         -0.2344   \n",
              "2          0         0          0.4399         -1.4817          0.0722   \n",
              "3          0         0          0.3031         -0.8125          0.0888   \n",
              "4          0         0          0.4814         -0.9312          0.0359   \n",
              "...      ...       ...             ...             ...             ...   \n",
              "88583      0         0          0.3084         -0.8376         -0.1327   \n",
              "88584      0         0          0.4977         -1.0027         -0.4397   \n",
              "88585      0         0          0.4587         -1.1780         -0.2827   \n",
              "88586      0         0          0.2590         -0.8582         -0.0759   \n",
              "88587      0         0          0.3140         -0.8008         -0.0911   \n",
              "\n",
              "       gyro_x  gyro_y  gyro_z  \n",
              "0     -0.0590  0.0325 -2.9296  \n",
              "1     -0.1757  0.0208  0.1269  \n",
              "2     -0.9105  0.1063 -2.4367  \n",
              "3      0.1199 -0.4099 -2.9336  \n",
              "4      0.0527  0.4379  2.4922  \n",
              "...       ...     ...     ...  \n",
              "88583  0.4823  2.0124  0.6048  \n",
              "88584  0.1022 -1.2565 -0.0761  \n",
              "88585 -1.4500 -0.2792 -1.2616  \n",
              "88586 -1.5165  0.4560 -1.7755  \n",
              "88587  0.1183  1.0850  1.2814  \n",
              "\n",
              "[88588 rows x 8 columns]"
            ]
          },
          "execution_count": 87,
          "metadata": {},
          "output_type": "execute_result"
        }
      ],
      "source": [
        "data"
      ]
    },
    {
      "cell_type": "markdown",
      "id": "de388e13",
      "metadata": {
        "id": "de388e13"
      },
      "source": [
        "# Balancing the data"
      ]
    },
    {
      "cell_type": "code",
      "execution_count": null,
      "id": "5091f25b",
      "metadata": {
        "id": "5091f25b",
        "outputId": "301ef4df-9db1-481d-df6e-5440ffe1e9c4"
      },
      "outputs": [
        {
          "data": {
            "text/plain": [
              "1    44365\n",
              "0    44223\n",
              "Name: activity, dtype: int64"
            ]
          },
          "execution_count": 88,
          "metadata": {},
          "output_type": "execute_result"
        }
      ],
      "source": [
        "data.activity.value_counts()"
      ]
    },
    {
      "cell_type": "code",
      "execution_count": null,
      "id": "c3400b40",
      "metadata": {
        "id": "c3400b40",
        "outputId": "29f856b5-e362-4c65-9cc1-cf160debcc17"
      },
      "outputs": [
        {
          "data": {
            "image/png": "[encoded data removed]",
            "text/plain": [
              "<Figure size 640x480 with 1 Axes>"
            ]
          },
          "metadata": {},
          "output_type": "display_data"
        }
      ],
      "source": [
        "plt.pie(data[\"activity\"].value_counts(),labels=data[\"activity\"].unique(),autopct=\"%0.2f%%\")\n",
        "plt.show()"
      ]
    },
    {
      "cell_type": "markdown",
      "id": "dbc18263",
      "metadata": {
        "id": "dbc18263"
      },
      "source": [
        "* Data is balance ther is no need to do SMOT"
      ]
    },
    {
      "cell_type": "markdown",
      "id": "9f6843fc",
      "metadata": {
        "id": "9f6843fc"
      },
      "source": [
        "#### Scaling and Balancing of data"
      ]
    },
    {
      "cell_type": "code",
      "execution_count": null,
      "id": "5b6841ae",
      "metadata": {
        "id": "5b6841ae"
      },
      "outputs": [],
      "source": [
        "x = data.drop('activity',axis=1)"
      ]
    },
    {
      "cell_type": "code",
      "execution_count": null,
      "id": "8f989523",
      "metadata": {
        "id": "8f989523",
        "outputId": "2f2df2ab-3041-490c-e017-5438bc785420"
      },
      "outputs": [
        {
          "data": {
            "text/html": [
              "<div>\n",
              "<style scoped>\n",
              "    .dataframe tbody tr th:only-of-type {\n",
              "        vertical-align: middle;\n",
              "    }\n",
              "\n",
              "    .dataframe tbody tr th {\n",
              "        vertical-align: top;\n",
              "    }\n",
              "\n",
              "    .dataframe thead th {\n",
              "        text-align: right;\n",
              "    }\n",
              "</style>\n",
              "<table border=\"1\" class=\"dataframe\">\n",
              "  <thead>\n",
              "    <tr style=\"text-align: right;\">\n",
              "      <th></th>\n",
              "      <th>wrist</th>\n",
              "      <th>acceleration_x</th>\n",
              "      <th>acceleration_y</th>\n",
              "      <th>acceleration_z</th>\n",
              "      <th>gyro_x</th>\n",
              "      <th>gyro_y</th>\n",
              "      <th>gyro_z</th>\n",
              "    </tr>\n",
              "  </thead>\n",
              "  <tbody>\n",
              "    <tr>\n",
              "      <th>0</th>\n",
              "      <td>0</td>\n",
              "      <td>0.2650</td>\n",
              "      <td>-0.7814</td>\n",
              "      <td>-0.0076</td>\n",
              "      <td>-0.0590</td>\n",
              "      <td>0.0325</td>\n",
              "      <td>-2.9296</td>\n",
              "    </tr>\n",
              "    <tr>\n",
              "      <th>1</th>\n",
              "      <td>0</td>\n",
              "      <td>0.6722</td>\n",
              "      <td>-1.1233</td>\n",
              "      <td>-0.2344</td>\n",
              "      <td>-0.1757</td>\n",
              "      <td>0.0208</td>\n",
              "      <td>0.1269</td>\n",
              "    </tr>\n",
              "    <tr>\n",
              "      <th>2</th>\n",
              "      <td>0</td>\n",
              "      <td>0.4399</td>\n",
              "      <td>-1.4817</td>\n",
              "      <td>0.0722</td>\n",
              "      <td>-0.9105</td>\n",
              "      <td>0.1063</td>\n",
              "      <td>-2.4367</td>\n",
              "    </tr>\n",
              "    <tr>\n",
              "      <th>3</th>\n",
              "      <td>0</td>\n",
              "      <td>0.3031</td>\n",
              "      <td>-0.8125</td>\n",
              "      <td>0.0888</td>\n",
              "      <td>0.1199</td>\n",
              "      <td>-0.4099</td>\n",
              "      <td>-2.9336</td>\n",
              "    </tr>\n",
              "    <tr>\n",
              "      <th>4</th>\n",
              "      <td>0</td>\n",
              "      <td>0.4814</td>\n",
              "      <td>-0.9312</td>\n",
              "      <td>0.0359</td>\n",
              "      <td>0.0527</td>\n",
              "      <td>0.4379</td>\n",
              "      <td>2.4922</td>\n",
              "    </tr>\n",
              "    <tr>\n",
              "      <th>...</th>\n",
              "      <td>...</td>\n",
              "      <td>...</td>\n",
              "      <td>...</td>\n",
              "      <td>...</td>\n",
              "      <td>...</td>\n",
              "      <td>...</td>\n",
              "      <td>...</td>\n",
              "    </tr>\n",
              "    <tr>\n",
              "      <th>88583</th>\n",
              "      <td>0</td>\n",
              "      <td>0.3084</td>\n",
              "      <td>-0.8376</td>\n",
              "      <td>-0.1327</td>\n",
              "      <td>0.4823</td>\n",
              "      <td>2.0124</td>\n",
              "      <td>0.6048</td>\n",
              "    </tr>\n",
              "    <tr>\n",
              "      <th>88584</th>\n",
              "      <td>0</td>\n",
              "      <td>0.4977</td>\n",
              "      <td>-1.0027</td>\n",
              "      <td>-0.4397</td>\n",
              "      <td>0.1022</td>\n",
              "      <td>-1.2565</td>\n",
              "      <td>-0.0761</td>\n",
              "    </tr>\n",
              "    <tr>\n",
              "      <th>88585</th>\n",
              "      <td>0</td>\n",
              "      <td>0.4587</td>\n",
              "      <td>-1.1780</td>\n",
              "      <td>-0.2827</td>\n",
              "      <td>-1.4500</td>\n",
              "      <td>-0.2792</td>\n",
              "      <td>-1.2616</td>\n",
              "    </tr>\n",
              "    <tr>\n",
              "      <th>88586</th>\n",
              "      <td>0</td>\n",
              "      <td>0.2590</td>\n",
              "      <td>-0.8582</td>\n",
              "      <td>-0.0759</td>\n",
              "      <td>-1.5165</td>\n",
              "      <td>0.4560</td>\n",
              "      <td>-1.7755</td>\n",
              "    </tr>\n",
              "    <tr>\n",
              "      <th>88587</th>\n",
              "      <td>0</td>\n",
              "      <td>0.3140</td>\n",
              "      <td>-0.8008</td>\n",
              "      <td>-0.0911</td>\n",
              "      <td>0.1183</td>\n",
              "      <td>1.0850</td>\n",
              "      <td>1.2814</td>\n",
              "    </tr>\n",
              "  </tbody>\n",
              "</table>\n",
              "<p>88588 rows × 7 columns</p>\n",
              "</div>"
            ],
            "text/plain": [
              "       wrist  acceleration_x  acceleration_y  acceleration_z  gyro_x  gyro_y  \\\n",
              "0          0          0.2650         -0.7814         -0.0076 -0.0590  0.0325   \n",
              "1          0          0.6722         -1.1233         -0.2344 -0.1757  0.0208   \n",
              "2          0          0.4399         -1.4817          0.0722 -0.9105  0.1063   \n",
              "3          0          0.3031         -0.8125          0.0888  0.1199 -0.4099   \n",
              "4          0          0.4814         -0.9312          0.0359  0.0527  0.4379   \n",
              "...      ...             ...             ...             ...     ...     ...   \n",
              "88583      0          0.3084         -0.8376         -0.1327  0.4823  2.0124   \n",
              "88584      0          0.4977         -1.0027         -0.4397  0.1022 -1.2565   \n",
              "88585      0          0.4587         -1.1780         -0.2827 -1.4500 -0.2792   \n",
              "88586      0          0.2590         -0.8582         -0.0759 -1.5165  0.4560   \n",
              "88587      0          0.3140         -0.8008         -0.0911  0.1183  1.0850   \n",
              "\n",
              "       gyro_z  \n",
              "0     -2.9296  \n",
              "1      0.1269  \n",
              "2     -2.4367  \n",
              "3     -2.9336  \n",
              "4      2.4922  \n",
              "...       ...  \n",
              "88583  0.6048  \n",
              "88584 -0.0761  \n",
              "88585 -1.2616  \n",
              "88586 -1.7755  \n",
              "88587  1.2814  \n",
              "\n",
              "[88588 rows x 7 columns]"
            ]
          },
          "execution_count": 91,
          "metadata": {},
          "output_type": "execute_result"
        }
      ],
      "source": [
        "x"
      ]
    },
    {
      "cell_type": "code",
      "execution_count": null,
      "id": "aceb8adf",
      "metadata": {
        "id": "aceb8adf"
      },
      "outputs": [],
      "source": [
        "y = data.activity"
      ]
    },
    {
      "cell_type": "code",
      "execution_count": null,
      "id": "ca6afbf8",
      "metadata": {
        "id": "ca6afbf8",
        "outputId": "bdd38614-1667-419d-97ed-f534fe47fe80"
      },
      "outputs": [
        {
          "data": {
            "text/plain": [
              "0        0\n",
              "1        0\n",
              "2        0\n",
              "3        0\n",
              "4        0\n",
              "        ..\n",
              "88583    0\n",
              "88584    0\n",
              "88585    0\n",
              "88586    0\n",
              "88587    0\n",
              "Name: activity, Length: 88588, dtype: int64"
            ]
          },
          "execution_count": 93,
          "metadata": {},
          "output_type": "execute_result"
        }
      ],
      "source": [
        "y"
      ]
    },
    {
      "cell_type": "code",
      "execution_count": null,
      "id": "8779be03",
      "metadata": {
        "id": "8779be03"
      },
      "outputs": [],
      "source": [
        "from sklearn.preprocessing import MinMaxScaler\n",
        "scale = MinMaxScaler()\n",
        "x = scale.fit_transform(x)"
      ]
    },
    {
      "cell_type": "code",
      "execution_count": null,
      "id": "25244d3e",
      "metadata": {
        "id": "25244d3e"
      },
      "outputs": [],
      "source": []
    },
    {
      "cell_type": "markdown",
      "id": "3259daee",
      "metadata": {
        "id": "3259daee"
      },
      "source": [
        "# Feature Selection Feature Engg"
      ]
    },
    {
      "cell_type": "code",
      "execution_count": null,
      "id": "d39b1316",
      "metadata": {
        "id": "d39b1316"
      },
      "outputs": [],
      "source": [
        "data1=data[['wrist','acceleration_x','acceleration_y','acceleration_z','gyro_x','gyro_y','gyro_z']]"
      ]
    },
    {
      "cell_type": "code",
      "execution_count": null,
      "id": "be54e5d1",
      "metadata": {
        "scrolled": false,
        "id": "be54e5d1",
        "outputId": "8cbfeb6f-a7c0-44dc-d03e-7690650fcb0b"
      },
      "outputs": [
        {
          "data": {
            "text/plain": [
              "<Axes: >"
            ]
          },
          "execution_count": 96,
          "metadata": {},
          "output_type": "execute_result"
        },
        {
          "data": {
            "image/png": "[encoded data removed]",
            "text/plain": [
              "<Figure size 2000x2000 with 2 Axes>"
            ]
          },
          "metadata": {},
          "output_type": "display_data"
        }
      ],
      "source": [
        "# check the heatmap correlation\n",
        "plt.figure(figsize=(20,20))\n",
        "sns.heatmap(data1.corr(),annot=True)"
      ]
    },
    {
      "cell_type": "markdown",
      "id": "e3f1cd92",
      "metadata": {
        "id": "e3f1cd92"
      },
      "source": [
        "* ther is no co-relation between indipendint varibles"
      ]
    },
    {
      "cell_type": "markdown",
      "id": "c4657ee5",
      "metadata": {
        "id": "c4657ee5"
      },
      "source": [
        "# Model Creation & Modle Evaluation"
      ]
    },
    {
      "cell_type": "markdown",
      "id": "1378487c",
      "metadata": {
        "id": "1378487c"
      },
      "source": [
        "### Spliting data for train and test"
      ]
    },
    {
      "cell_type": "code",
      "execution_count": null,
      "id": "1e029738",
      "metadata": {
        "id": "1e029738",
        "outputId": "a9b9ee02-ee0f-4a6c-b716-d853a1e09f3a"
      },
      "outputs": [
        {
          "data": {
            "text/plain": [
              "((62011, 7), (26577, 7), (62011,), (26577,))"
            ]
          },
          "execution_count": 97,
          "metadata": {},
          "output_type": "execute_result"
        }
      ],
      "source": [
        "from sklearn.model_selection import train_test_split\n",
        "x_train,x_test,y_train,y_test=train_test_split(x,y,test_size=0.3,random_state=43)\n",
        "x_train.shape,x_test.shape,y_train.shape,y_test.shape"
      ]
    },
    {
      "cell_type": "markdown",
      "id": "3f7ed4cb",
      "metadata": {
        "id": "3f7ed4cb"
      },
      "source": [
        "## 1.Logistic Regression"
      ]
    },
    {
      "cell_type": "code",
      "execution_count": null,
      "id": "f367d08c",
      "metadata": {
        "id": "f367d08c"
      },
      "outputs": [],
      "source": [
        "# create Linear Regression model\n",
        "from sklearn.linear_model import LogisticRegression\n",
        "LR=LogisticRegression()   # object creation\n",
        "LR.fit(x_train,y_train) # Training the model\n",
        "y_pred=LR.predict(x_test)   # Test prediction\n",
        "y1_pred = LR.predict(x_train) # Train prediction"
      ]
    },
    {
      "cell_type": "code",
      "execution_count": null,
      "id": "91416696",
      "metadata": {
        "id": "91416696",
        "outputId": "27f2d693-1b47-4b24-eace-12facd21ef87"
      },
      "outputs": [
        {
          "data": {
            "text/plain": [
              "array([1, 0, 0, ..., 0, 1, 0], dtype=int64)"
            ]
          },
          "execution_count": 99,
          "metadata": {},
          "output_type": "execute_result"
        }
      ],
      "source": [
        "y_pred"
      ]
    },
    {
      "cell_type": "code",
      "execution_count": null,
      "id": "6565b6b7",
      "metadata": {
        "id": "6565b6b7",
        "outputId": "0b12a554-decb-4219-fd73-c247988b4443"
      },
      "outputs": [
        {
          "data": {
            "text/plain": [
              "array([1, 0, 0, ..., 0, 1, 0], dtype=int64)"
            ]
          },
          "execution_count": 100,
          "metadata": {},
          "output_type": "execute_result"
        }
      ],
      "source": [
        "y_test.values"
      ]
    },
    {
      "cell_type": "markdown",
      "id": "b7eba3da",
      "metadata": {
        "id": "b7eba3da"
      },
      "source": [
        "### Evaluation Matrix for Logistic Regression"
      ]
    },
    {
      "cell_type": "code",
      "execution_count": null,
      "id": "e829380e",
      "metadata": {
        "id": "e829380e"
      },
      "outputs": [],
      "source": [
        "from sklearn.metrics import accuracy_score, precision_score, recall_score, f1_score, confusion_matrix, classification_report"
      ]
    },
    {
      "cell_type": "code",
      "execution_count": null,
      "id": "0b21114f",
      "metadata": {
        "id": "0b21114f",
        "outputId": "ac2d3c56-9bcb-4337-e091-55686737911c"
      },
      "outputs": [
        {
          "data": {
            "text/plain": [
              "0.909481306837319"
            ]
          },
          "execution_count": 102,
          "metadata": {},
          "output_type": "execute_result"
        }
      ],
      "source": [
        "precision_score(y_test, y_pred)"
      ]
    },
    {
      "cell_type": "code",
      "execution_count": null,
      "id": "5de385a0",
      "metadata": {
        "id": "5de385a0",
        "outputId": "1d9ce8d6-7ffb-4939-b5d4-95aff64b171f"
      },
      "outputs": [
        {
          "data": {
            "text/plain": [
              "0.8116170724376315"
            ]
          },
          "execution_count": 103,
          "metadata": {},
          "output_type": "execute_result"
        }
      ],
      "source": [
        "recall_score(y_test, y_pred)"
      ]
    },
    {
      "cell_type": "code",
      "execution_count": null,
      "id": "b7997b24",
      "metadata": {
        "id": "b7997b24",
        "outputId": "c5527c4d-648f-4651-f1b6-80532f60037b"
      },
      "outputs": [
        {
          "data": {
            "text/plain": [
              "0.8577668360864039"
            ]
          },
          "execution_count": 104,
          "metadata": {},
          "output_type": "execute_result"
        }
      ],
      "source": [
        "f1_score(y_test, y_pred)"
      ]
    },
    {
      "cell_type": "code",
      "execution_count": null,
      "id": "89ccae50",
      "metadata": {
        "id": "89ccae50",
        "outputId": "5c55e859-9599-4c2e-e0b3-79e03b53b4ae"
      },
      "outputs": [
        {
          "data": {
            "text/plain": [
              "array([[12194,  1075],\n",
              "       [ 2507, 10801]], dtype=int64)"
            ]
          },
          "execution_count": 105,
          "metadata": {},
          "output_type": "execute_result"
        }
      ],
      "source": [
        "confusion_matrix(y_test, y_pred)"
      ]
    },
    {
      "cell_type": "code",
      "execution_count": null,
      "id": "9a869cde",
      "metadata": {
        "id": "9a869cde",
        "outputId": "0d55372f-df05-4989-982e-885a44bff838"
      },
      "outputs": [
        {
          "name": "stdout",
          "output_type": "stream",
          "text": [
            "Train_Accuracy: 0.8615245682217672\n",
            "Test_Accuracy: 0.8652218083305113\n"
          ]
        }
      ],
      "source": [
        "train_accuracy = accuracy_score(y_train, y1_pred)\n",
        "test_accuracy = accuracy_score(y_test, y_pred)\n",
        "print(\"Train_Accuracy:\", train_accuracy)\n",
        "print(\"Test_Accuracy:\", test_accuracy)"
      ]
    },
    {
      "cell_type": "code",
      "execution_count": null,
      "id": "8967ec98",
      "metadata": {
        "id": "8967ec98",
        "outputId": "4a4d0238-dc92-4d96-a55d-bdae34a0e56e"
      },
      "outputs": [
        {
          "data": {
            "text/html": [
              "<div>\n",
              "<style scoped>\n",
              "    .dataframe tbody tr th:only-of-type {\n",
              "        vertical-align: middle;\n",
              "    }\n",
              "\n",
              "    .dataframe tbody tr th {\n",
              "        vertical-align: top;\n",
              "    }\n",
              "\n",
              "    .dataframe thead th {\n",
              "        text-align: right;\n",
              "    }\n",
              "</style>\n",
              "<table border=\"1\" class=\"dataframe\">\n",
              "  <thead>\n",
              "    <tr style=\"text-align: right;\">\n",
              "      <th></th>\n",
              "      <th>0</th>\n",
              "      <th>1</th>\n",
              "      <th>accuracy</th>\n",
              "      <th>macro avg</th>\n",
              "      <th>weighted avg</th>\n",
              "    </tr>\n",
              "  </thead>\n",
              "  <tbody>\n",
              "    <tr>\n",
              "      <th>precision</th>\n",
              "      <td>0.825262</td>\n",
              "      <td>0.906653</td>\n",
              "      <td>0.861525</td>\n",
              "      <td>0.865958</td>\n",
              "      <td>0.866025</td>\n",
              "    </tr>\n",
              "    <tr>\n",
              "      <th>recall</th>\n",
              "      <td>0.916683</td>\n",
              "      <td>0.806549</td>\n",
              "      <td>0.861525</td>\n",
              "      <td>0.861616</td>\n",
              "      <td>0.861525</td>\n",
              "    </tr>\n",
              "    <tr>\n",
              "      <th>f1-score</th>\n",
              "      <td>0.868574</td>\n",
              "      <td>0.853676</td>\n",
              "      <td>0.861525</td>\n",
              "      <td>0.861125</td>\n",
              "      <td>0.861113</td>\n",
              "    </tr>\n",
              "    <tr>\n",
              "      <th>support</th>\n",
              "      <td>30954.000000</td>\n",
              "      <td>31057.000000</td>\n",
              "      <td>0.861525</td>\n",
              "      <td>62011.000000</td>\n",
              "      <td>62011.000000</td>\n",
              "    </tr>\n",
              "  </tbody>\n",
              "</table>\n",
              "</div>"
            ],
            "text/plain": [
              "                      0             1  accuracy     macro avg  weighted avg\n",
              "precision      0.825262      0.906653  0.861525      0.865958      0.866025\n",
              "recall         0.916683      0.806549  0.861525      0.861616      0.861525\n",
              "f1-score       0.868574      0.853676  0.861525      0.861125      0.861113\n",
              "support    30954.000000  31057.000000  0.861525  62011.000000  62011.000000"
            ]
          },
          "execution_count": 107,
          "metadata": {},
          "output_type": "execute_result"
        }
      ],
      "source": [
        "# Evaluating the classification report of the train data\n",
        "pd.DataFrame(classification_report(y_train,y1_pred,output_dict=True))"
      ]
    },
    {
      "cell_type": "code",
      "execution_count": null,
      "id": "85028220",
      "metadata": {
        "scrolled": true,
        "id": "85028220",
        "outputId": "15664527-ed08-4d8d-cf23-2150fb5ea22b"
      },
      "outputs": [
        {
          "data": {
            "text/html": [
              "<div>\n",
              "<style scoped>\n",
              "    .dataframe tbody tr th:only-of-type {\n",
              "        vertical-align: middle;\n",
              "    }\n",
              "\n",
              "    .dataframe tbody tr th {\n",
              "        vertical-align: top;\n",
              "    }\n",
              "\n",
              "    .dataframe thead th {\n",
              "        text-align: right;\n",
              "    }\n",
              "</style>\n",
              "<table border=\"1\" class=\"dataframe\">\n",
              "  <thead>\n",
              "    <tr style=\"text-align: right;\">\n",
              "      <th></th>\n",
              "      <th>0</th>\n",
              "      <th>1</th>\n",
              "      <th>accuracy</th>\n",
              "      <th>macro avg</th>\n",
              "      <th>weighted avg</th>\n",
              "    </tr>\n",
              "  </thead>\n",
              "  <tbody>\n",
              "    <tr>\n",
              "      <th>precision</th>\n",
              "      <td>0.829467</td>\n",
              "      <td>0.909481</td>\n",
              "      <td>0.865222</td>\n",
              "      <td>0.869474</td>\n",
              "      <td>0.869533</td>\n",
              "    </tr>\n",
              "    <tr>\n",
              "      <th>recall</th>\n",
              "      <td>0.918984</td>\n",
              "      <td>0.811617</td>\n",
              "      <td>0.865222</td>\n",
              "      <td>0.865301</td>\n",
              "      <td>0.865222</td>\n",
              "    </tr>\n",
              "    <tr>\n",
              "      <th>f1-score</th>\n",
              "      <td>0.871934</td>\n",
              "      <td>0.857767</td>\n",
              "      <td>0.865222</td>\n",
              "      <td>0.864851</td>\n",
              "      <td>0.864840</td>\n",
              "    </tr>\n",
              "    <tr>\n",
              "      <th>support</th>\n",
              "      <td>13269.000000</td>\n",
              "      <td>13308.000000</td>\n",
              "      <td>0.865222</td>\n",
              "      <td>26577.000000</td>\n",
              "      <td>26577.000000</td>\n",
              "    </tr>\n",
              "  </tbody>\n",
              "</table>\n",
              "</div>"
            ],
            "text/plain": [
              "                      0             1  accuracy     macro avg  weighted avg\n",
              "precision      0.829467      0.909481  0.865222      0.869474      0.869533\n",
              "recall         0.918984      0.811617  0.865222      0.865301      0.865222\n",
              "f1-score       0.871934      0.857767  0.865222      0.864851      0.864840\n",
              "support    13269.000000  13308.000000  0.865222  26577.000000  26577.000000"
            ]
          },
          "execution_count": 108,
          "metadata": {},
          "output_type": "execute_result"
        }
      ],
      "source": [
        "# Evaluating the classification report of the test data\n",
        "pd.DataFrame(classification_report(y_test, y_pred,output_dict=True))"
      ]
    },
    {
      "cell_type": "markdown",
      "id": "6b4781e2",
      "metadata": {
        "id": "6b4781e2"
      },
      "source": [
        "## 2.KNNeighbors"
      ]
    },
    {
      "cell_type": "code",
      "execution_count": null,
      "id": "43d33719",
      "metadata": {
        "id": "43d33719"
      },
      "outputs": [],
      "source": [
        "from sklearn.neighbors import KNeighborsClassifier\n",
        "knn = KNeighborsClassifier()   # object creation\n",
        "knn.fit(x_train,y_train) # Training the model\n",
        "y_pred=knn.predict(x_test)  # Test prediction\n",
        "y1_pred = knn.predict(x_train) # Train prediction"
      ]
    },
    {
      "cell_type": "code",
      "execution_count": null,
      "id": "fcd198b4",
      "metadata": {
        "id": "fcd198b4",
        "outputId": "da39c47b-16c3-405f-8119-b89eda3c4cf5"
      },
      "outputs": [
        {
          "data": {
            "text/plain": [
              "array([1, 0, 0, ..., 0, 1, 0], dtype=int64)"
            ]
          },
          "execution_count": 110,
          "metadata": {},
          "output_type": "execute_result"
        }
      ],
      "source": [
        "y_pred"
      ]
    },
    {
      "cell_type": "code",
      "execution_count": null,
      "id": "916da84b",
      "metadata": {
        "id": "916da84b",
        "outputId": "949c68ed-f066-4b59-cd45-f961209d784f"
      },
      "outputs": [
        {
          "data": {
            "text/plain": [
              "array([1, 0, 0, ..., 0, 1, 0], dtype=int64)"
            ]
          },
          "execution_count": 111,
          "metadata": {},
          "output_type": "execute_result"
        }
      ],
      "source": [
        "y_test.values"
      ]
    },
    {
      "cell_type": "markdown",
      "id": "97e20ffb",
      "metadata": {
        "id": "97e20ffb"
      },
      "source": [
        "## Evaluation Matrix for KNNeighbors"
      ]
    },
    {
      "cell_type": "code",
      "execution_count": null,
      "id": "d6f2bb9b",
      "metadata": {
        "id": "d6f2bb9b",
        "outputId": "170f6a19-1c87-4e64-f3e6-c3526bcd5e44"
      },
      "outputs": [
        {
          "data": {
            "text/plain": [
              "0.9952326901248582"
            ]
          },
          "execution_count": 112,
          "metadata": {},
          "output_type": "execute_result"
        }
      ],
      "source": [
        "precision_score(y_test, y_pred)"
      ]
    },
    {
      "cell_type": "code",
      "execution_count": null,
      "id": "cb7d6966",
      "metadata": {
        "id": "cb7d6966",
        "outputId": "20665284-56d1-4285-8435-27f1de30170e"
      },
      "outputs": [
        {
          "data": {
            "text/plain": [
              "0.9882777276825969"
            ]
          },
          "execution_count": 113,
          "metadata": {},
          "output_type": "execute_result"
        }
      ],
      "source": [
        "recall_score(y_test, y_pred)"
      ]
    },
    {
      "cell_type": "code",
      "execution_count": null,
      "id": "039e0fe0",
      "metadata": {
        "id": "039e0fe0",
        "outputId": "42827538-1b7e-4036-8cf8-49e54d57fb01"
      },
      "outputs": [
        {
          "data": {
            "text/plain": [
              "0.9917430154959845"
            ]
          },
          "execution_count": 114,
          "metadata": {},
          "output_type": "execute_result"
        }
      ],
      "source": [
        "f1_score(y_test, y_pred)"
      ]
    },
    {
      "cell_type": "code",
      "execution_count": null,
      "id": "dc2c7a7d",
      "metadata": {
        "id": "dc2c7a7d",
        "outputId": "b87b1028-1830-45ff-f905-8a8997eb48a0"
      },
      "outputs": [
        {
          "data": {
            "text/plain": [
              "array([[13206,    63],\n",
              "       [  156, 13152]], dtype=int64)"
            ]
          },
          "execution_count": 115,
          "metadata": {},
          "output_type": "execute_result"
        }
      ],
      "source": [
        "confusion_matrix(y_test, y_pred)"
      ]
    },
    {
      "cell_type": "code",
      "execution_count": null,
      "id": "40ab697e",
      "metadata": {
        "id": "40ab697e",
        "outputId": "b5e57400-0454-4309-ab45-4fb3640adb95"
      },
      "outputs": [
        {
          "name": "stdout",
          "output_type": "stream",
          "text": [
            "Train_Accuracy: 0.9935979100482173\n",
            "Test_Accuracy: 0.9917597923016142\n"
          ]
        }
      ],
      "source": [
        "train_accuracy = accuracy_score(y_train, y1_pred)\n",
        "test_accuracy = accuracy_score(y_test, y_pred)\n",
        "print(\"Train_Accuracy:\", train_accuracy)\n",
        "print(\"Test_Accuracy:\", test_accuracy)"
      ]
    },
    {
      "cell_type": "code",
      "execution_count": null,
      "id": "3ba4e281",
      "metadata": {
        "id": "3ba4e281",
        "outputId": "c619a89e-a7c8-422e-eddf-65a7a592b4f0"
      },
      "outputs": [
        {
          "data": {
            "text/html": [
              "<div>\n",
              "<style scoped>\n",
              "    .dataframe tbody tr th:only-of-type {\n",
              "        vertical-align: middle;\n",
              "    }\n",
              "\n",
              "    .dataframe tbody tr th {\n",
              "        vertical-align: top;\n",
              "    }\n",
              "\n",
              "    .dataframe thead th {\n",
              "        text-align: right;\n",
              "    }\n",
              "</style>\n",
              "<table border=\"1\" class=\"dataframe\">\n",
              "  <thead>\n",
              "    <tr style=\"text-align: right;\">\n",
              "      <th></th>\n",
              "      <th>0</th>\n",
              "      <th>1</th>\n",
              "      <th>accuracy</th>\n",
              "      <th>macro avg</th>\n",
              "      <th>weighted avg</th>\n",
              "    </tr>\n",
              "  </thead>\n",
              "  <tbody>\n",
              "    <tr>\n",
              "      <th>precision</th>\n",
              "      <td>0.990340</td>\n",
              "      <td>0.996888</td>\n",
              "      <td>0.993598</td>\n",
              "      <td>0.993614</td>\n",
              "      <td>0.993620</td>\n",
              "    </tr>\n",
              "    <tr>\n",
              "      <th>recall</th>\n",
              "      <td>0.996899</td>\n",
              "      <td>0.990308</td>\n",
              "      <td>0.993598</td>\n",
              "      <td>0.993603</td>\n",
              "      <td>0.993598</td>\n",
              "    </tr>\n",
              "    <tr>\n",
              "      <th>f1-score</th>\n",
              "      <td>0.993608</td>\n",
              "      <td>0.993587</td>\n",
              "      <td>0.993598</td>\n",
              "      <td>0.993598</td>\n",
              "      <td>0.993598</td>\n",
              "    </tr>\n",
              "    <tr>\n",
              "      <th>support</th>\n",
              "      <td>30954.000000</td>\n",
              "      <td>31057.000000</td>\n",
              "      <td>0.993598</td>\n",
              "      <td>62011.000000</td>\n",
              "      <td>62011.000000</td>\n",
              "    </tr>\n",
              "  </tbody>\n",
              "</table>\n",
              "</div>"
            ],
            "text/plain": [
              "                      0             1  accuracy     macro avg  weighted avg\n",
              "precision      0.990340      0.996888  0.993598      0.993614      0.993620\n",
              "recall         0.996899      0.990308  0.993598      0.993603      0.993598\n",
              "f1-score       0.993608      0.993587  0.993598      0.993598      0.993598\n",
              "support    30954.000000  31057.000000  0.993598  62011.000000  62011.000000"
            ]
          },
          "execution_count": 117,
          "metadata": {},
          "output_type": "execute_result"
        }
      ],
      "source": [
        "# Evaluating the classification report of the train data\n",
        "pd.DataFrame(classification_report(y_train,y1_pred,output_dict=True))"
      ]
    },
    {
      "cell_type": "code",
      "execution_count": null,
      "id": "258e15c0",
      "metadata": {
        "id": "258e15c0",
        "outputId": "ed094d6c-7596-4af4-e7a8-cc567e9ffed6"
      },
      "outputs": [
        {
          "data": {
            "text/html": [
              "<div>\n",
              "<style scoped>\n",
              "    .dataframe tbody tr th:only-of-type {\n",
              "        vertical-align: middle;\n",
              "    }\n",
              "\n",
              "    .dataframe tbody tr th {\n",
              "        vertical-align: top;\n",
              "    }\n",
              "\n",
              "    .dataframe thead th {\n",
              "        text-align: right;\n",
              "    }\n",
              "</style>\n",
              "<table border=\"1\" class=\"dataframe\">\n",
              "  <thead>\n",
              "    <tr style=\"text-align: right;\">\n",
              "      <th></th>\n",
              "      <th>0</th>\n",
              "      <th>1</th>\n",
              "      <th>accuracy</th>\n",
              "      <th>macro avg</th>\n",
              "      <th>weighted avg</th>\n",
              "    </tr>\n",
              "  </thead>\n",
              "  <tbody>\n",
              "    <tr>\n",
              "      <th>precision</th>\n",
              "      <td>0.988325</td>\n",
              "      <td>0.995233</td>\n",
              "      <td>0.99176</td>\n",
              "      <td>0.991779</td>\n",
              "      <td>0.991784</td>\n",
              "    </tr>\n",
              "    <tr>\n",
              "      <th>recall</th>\n",
              "      <td>0.995252</td>\n",
              "      <td>0.988278</td>\n",
              "      <td>0.99176</td>\n",
              "      <td>0.991765</td>\n",
              "      <td>0.991760</td>\n",
              "    </tr>\n",
              "    <tr>\n",
              "      <th>f1-score</th>\n",
              "      <td>0.991777</td>\n",
              "      <td>0.991743</td>\n",
              "      <td>0.99176</td>\n",
              "      <td>0.991760</td>\n",
              "      <td>0.991760</td>\n",
              "    </tr>\n",
              "    <tr>\n",
              "      <th>support</th>\n",
              "      <td>13269.000000</td>\n",
              "      <td>13308.000000</td>\n",
              "      <td>0.99176</td>\n",
              "      <td>26577.000000</td>\n",
              "      <td>26577.000000</td>\n",
              "    </tr>\n",
              "  </tbody>\n",
              "</table>\n",
              "</div>"
            ],
            "text/plain": [
              "                      0             1  accuracy     macro avg  weighted avg\n",
              "precision      0.988325      0.995233   0.99176      0.991779      0.991784\n",
              "recall         0.995252      0.988278   0.99176      0.991765      0.991760\n",
              "f1-score       0.991777      0.991743   0.99176      0.991760      0.991760\n",
              "support    13269.000000  13308.000000   0.99176  26577.000000  26577.000000"
            ]
          },
          "execution_count": 118,
          "metadata": {},
          "output_type": "execute_result"
        }
      ],
      "source": [
        "# Evaluating the classification report of the test data\n",
        "pd.DataFrame(classification_report(y_test, y_pred,output_dict=True))"
      ]
    },
    {
      "cell_type": "markdown",
      "id": "622e3208",
      "metadata": {
        "id": "622e3208"
      },
      "source": [
        "## 3. Support Vector Machine- Classifier"
      ]
    },
    {
      "cell_type": "code",
      "execution_count": null,
      "id": "03f76669",
      "metadata": {
        "id": "03f76669"
      },
      "outputs": [],
      "source": [
        "from sklearn.svm import SVC\n",
        "# Creating an SVM classifier\n",
        "clf = SVC(kernel='linear')"
      ]
    },
    {
      "cell_type": "code",
      "execution_count": null,
      "id": "ed7afe56",
      "metadata": {
        "id": "ed7afe56",
        "outputId": "5a99c0de-0158-4756-9a3f-15b9d4386b0a"
      },
      "outputs": [
        {
          "data": {
            "text/html": [
              "<style>#sk-container-id-1 {color: black;background-color: white;}#sk-container-id-1 pre{padding: 0;}#sk-container-id-1 div.sk-toggleable {background-color: white;}#sk-container-id-1 label.sk-toggleable__label {cursor: pointer;display: block;width: 100%;margin-bottom: 0;padding: 0.3em;box-sizing: border-box;text-align: center;}#sk-container-id-1 label.sk-toggleable__label-arrow:before {content: \"▸\";float: left;margin-right: 0.25em;color: #696969;}#sk-container-id-1 label.sk-toggleable__label-arrow:hover:before {color: black;}#sk-container-id-1 div.sk-estimator:hover label.sk-toggleable__label-arrow:before {color: black;}#sk-container-id-1 div.sk-toggleable__content {max-height: 0;max-width: 0;overflow: hidden;text-align: left;background-color: #f0f8ff;}#sk-container-id-1 div.sk-toggleable__content pre {margin: 0.2em;color: black;border-radius: 0.25em;background-color: #f0f8ff;}#sk-container-id-1 input.sk-toggleable__control:checked~div.sk-toggleable__content {max-height: 200px;max-width: 100%;overflow: auto;}#sk-container-id-1 input.sk-toggleable__control:checked~label.sk-toggleable__label-arrow:before {content: \"▾\";}#sk-container-id-1 div.sk-estimator input.sk-toggleable__control:checked~label.sk-toggleable__label {background-color: #d4ebff;}#sk-container-id-1 div.sk-label input.sk-toggleable__control:checked~label.sk-toggleable__label {background-color: #d4ebff;}#sk-container-id-1 input.sk-hidden--visually {border: 0;clip: rect(1px 1px 1px 1px);clip: rect(1px, 1px, 1px, 1px);height: 1px;margin: -1px;overflow: hidden;padding: 0;position: absolute;width: 1px;}#sk-container-id-1 div.sk-estimator {font-family: monospace;background-color: #f0f8ff;border: 1px dotted black;border-radius: 0.25em;box-sizing: border-box;margin-bottom: 0.5em;}#sk-container-id-1 div.sk-estimator:hover {background-color: #d4ebff;}#sk-container-id-1 div.sk-parallel-item::after {content: \"\";width: 100%;border-bottom: 1px solid gray;flex-grow: 1;}#sk-container-id-1 div.sk-label:hover label.sk-toggleable__label {background-color: #d4ebff;}#sk-container-id-1 div.sk-serial::before {content: \"\";position: absolute;border-left: 1px solid gray;box-sizing: border-box;top: 0;bottom: 0;left: 50%;z-index: 0;}#sk-container-id-1 div.sk-serial {display: flex;flex-direction: column;align-items: center;background-color: white;padding-right: 0.2em;padding-left: 0.2em;position: relative;}#sk-container-id-1 div.sk-item {position: relative;z-index: 1;}#sk-container-id-1 div.sk-parallel {display: flex;align-items: stretch;justify-content: center;background-color: white;position: relative;}#sk-container-id-1 div.sk-item::before, #sk-container-id-1 div.sk-parallel-item::before {content: \"\";position: absolute;border-left: 1px solid gray;box-sizing: border-box;top: 0;bottom: 0;left: 50%;z-index: -1;}#sk-container-id-1 div.sk-parallel-item {display: flex;flex-direction: column;z-index: 1;position: relative;background-color: white;}#sk-container-id-1 div.sk-parallel-item:first-child::after {align-self: flex-end;width: 50%;}#sk-container-id-1 div.sk-parallel-item:last-child::after {align-self: flex-start;width: 50%;}#sk-container-id-1 div.sk-parallel-item:only-child::after {width: 0;}#sk-container-id-1 div.sk-dashed-wrapped {border: 1px dashed gray;margin: 0 0.4em 0.5em 0.4em;box-sizing: border-box;padding-bottom: 0.4em;background-color: white;}#sk-container-id-1 div.sk-label label {font-family: monospace;font-weight: bold;display: inline-block;line-height: 1.2em;}#sk-container-id-1 div.sk-label-container {text-align: center;}#sk-container-id-1 div.sk-container {/* jupyter's `normalize.less` sets `[hidden] { display: none; }` but bootstrap.min.css set `[hidden] { display: none !important; }` so we also need the `!important` here to be able to override the default hidden behavior on the sphinx rendered scikit-learn.org. See: https://github.com/scikit-learn/scikit-learn/issues/21755 */display: inline-block !important;position: relative;}#sk-container-id-1 div.sk-text-repr-fallback {display: none;}</style><div id=\"sk-container-id-1\" class=\"sk-top-container\"><div class=\"sk-text-repr-fallback\"><pre>SVC(kernel=&#x27;linear&#x27;)</pre><b>In a Jupyter environment, please rerun this cell to show the HTML representation or trust the notebook. <br />On GitHub, the HTML representation is unable to render, please try loading this page with nbviewer.org.</b></div><div class=\"sk-container\" hidden><div class=\"sk-item\"><div class=\"sk-estimator sk-toggleable\"><input class=\"sk-toggleable__control sk-hidden--visually\" id=\"sk-estimator-id-1\" type=\"checkbox\" checked><label for=\"sk-estimator-id-1\" class=\"sk-toggleable__label sk-toggleable__label-arrow\">SVC</label><div class=\"sk-toggleable__content\"><pre>SVC(kernel=&#x27;linear&#x27;)</pre></div></div></div></div></div>"
            ],
            "text/plain": [
              "SVC(kernel='linear')"
            ]
          },
          "execution_count": 120,
          "metadata": {},
          "output_type": "execute_result"
        }
      ],
      "source": [
        "clf.fit(x_train,y_train) # Training the model"
      ]
    },
    {
      "cell_type": "code",
      "execution_count": null,
      "id": "7a8523cd",
      "metadata": {
        "id": "7a8523cd",
        "outputId": "60d4ca4a-e012-4c55-a0f3-ccf4f0cfd326"
      },
      "outputs": [
        {
          "ename": "TypeError",
          "evalue": "BaseSVC.predict() missing 1 required positional argument: 'X'",
          "output_type": "error",
          "traceback": [
            "\u001b[1;31m---------------------------------------------------------------------------\u001b[0m",
            "\u001b[1;31mTypeError\u001b[0m                                 Traceback (most recent call last)",
            "Cell \u001b[1;32mIn[121], line 1\u001b[0m\n\u001b[1;32m----> 1\u001b[0m y_pred\u001b[38;5;241m=\u001b[39m\u001b[43mSVC\u001b[49m\u001b[38;5;241;43m.\u001b[39;49m\u001b[43mpredict\u001b[49m\u001b[43m(\u001b[49m\u001b[43mx_test\u001b[49m\u001b[43m)\u001b[49m\n",
            "\u001b[1;31mTypeError\u001b[0m: BaseSVC.predict() missing 1 required positional argument: 'X'"
          ]
        }
      ],
      "source": [
        "y_pred=SVC.predict(x_test)    # Test prediction"
      ]
    },
    {
      "cell_type": "code",
      "execution_count": null,
      "id": "b4965c24",
      "metadata": {
        "id": "b4965c24"
      },
      "outputs": [],
      "source": [
        "y1_pred = SVC.predict(x_train) # Train prediction"
      ]
    },
    {
      "cell_type": "code",
      "execution_count": null,
      "id": "ae8531f9",
      "metadata": {
        "id": "ae8531f9",
        "outputId": "55e2d3d4-f0c1-421f-fed9-ff881cf74365"
      },
      "outputs": [
        {
          "data": {
            "text/plain": [
              "array([1, 0, 0, ..., 0, 1, 0], dtype=int64)"
            ]
          },
          "execution_count": 122,
          "metadata": {},
          "output_type": "execute_result"
        }
      ],
      "source": [
        "y_pred"
      ]
    },
    {
      "cell_type": "code",
      "execution_count": null,
      "id": "ef7cf5db",
      "metadata": {
        "id": "ef7cf5db",
        "outputId": "112aca1b-6e6e-40f0-ceee-3950c397f5e2"
      },
      "outputs": [
        {
          "data": {
            "text/plain": [
              "81226    1\n",
              "30269    0\n",
              "27129    0\n",
              "32408    0\n",
              "74220    1\n",
              "        ..\n",
              "87438    1\n",
              "19337    1\n",
              "79275    0\n",
              "9350     1\n",
              "77265    0\n",
              "Name: activity, Length: 26577, dtype: int64"
            ]
          },
          "execution_count": 123,
          "metadata": {},
          "output_type": "execute_result"
        }
      ],
      "source": [
        "y_test"
      ]
    },
    {
      "cell_type": "markdown",
      "id": "c3ac5fd2",
      "metadata": {
        "id": "c3ac5fd2"
      },
      "source": [
        "### Evaluation Matrix for Support Vector Machine- Classifier"
      ]
    },
    {
      "cell_type": "code",
      "execution_count": null,
      "id": "3c2bd397",
      "metadata": {
        "id": "3c2bd397",
        "outputId": "d588b048-c1e9-445d-a1c7-92f454e5f905"
      },
      "outputs": [
        {
          "data": {
            "text/plain": [
              "0.9952326901248582"
            ]
          },
          "execution_count": 124,
          "metadata": {},
          "output_type": "execute_result"
        }
      ],
      "source": [
        "precision_score(y_test, y_pred)"
      ]
    },
    {
      "cell_type": "code",
      "execution_count": null,
      "id": "a3388aaf",
      "metadata": {
        "id": "a3388aaf",
        "outputId": "83ecf43e-eff6-411a-e91d-86e9dcec6d02"
      },
      "outputs": [
        {
          "data": {
            "text/plain": [
              "0.9882777276825969"
            ]
          },
          "execution_count": 125,
          "metadata": {},
          "output_type": "execute_result"
        }
      ],
      "source": [
        "recall_score(y_test, y_pred)"
      ]
    },
    {
      "cell_type": "code",
      "execution_count": null,
      "id": "c3e76b0b",
      "metadata": {
        "id": "c3e76b0b",
        "outputId": "c4e168de-e42d-4750-a65f-a2fc98c74864"
      },
      "outputs": [
        {
          "data": {
            "text/plain": [
              "0.9917430154959845"
            ]
          },
          "execution_count": 126,
          "metadata": {},
          "output_type": "execute_result"
        }
      ],
      "source": [
        "f1_score(y_test, y_pred)"
      ]
    },
    {
      "cell_type": "code",
      "execution_count": null,
      "id": "08bded5c",
      "metadata": {
        "id": "08bded5c",
        "outputId": "ec8d0eea-a6e4-4b26-fb87-5b7bbe7fc614"
      },
      "outputs": [
        {
          "data": {
            "text/plain": [
              "array([[13206,    63],\n",
              "       [  156, 13152]], dtype=int64)"
            ]
          },
          "execution_count": 127,
          "metadata": {},
          "output_type": "execute_result"
        }
      ],
      "source": [
        "confusion_matrix(y_test, y_pred)"
      ]
    },
    {
      "cell_type": "code",
      "execution_count": null,
      "id": "9e6fead4",
      "metadata": {
        "id": "9e6fead4",
        "outputId": "149435a6-6553-4e60-d055-ebd1709aad9e"
      },
      "outputs": [
        {
          "name": "stdout",
          "output_type": "stream",
          "text": [
            "Train_Accuracy: 0.9935979100482173\n",
            "Test_Accuracy: 0.9917597923016142\n"
          ]
        }
      ],
      "source": [
        "train_accuracy = accuracy_score(y_train, y1_pred)\n",
        "test_accuracy = accuracy_score(y_test, y_pred)\n",
        "print(\"Train_Accuracy:\", train_accuracy)\n",
        "print(\"Test_Accuracy:\", test_accuracy)"
      ]
    },
    {
      "cell_type": "code",
      "execution_count": null,
      "id": "4b0b9c3c",
      "metadata": {
        "id": "4b0b9c3c",
        "outputId": "722689a4-01f3-4abf-cbff-6eb8eb1a2fb8"
      },
      "outputs": [
        {
          "data": {
            "text/html": [
              "<div>\n",
              "<style scoped>\n",
              "    .dataframe tbody tr th:only-of-type {\n",
              "        vertical-align: middle;\n",
              "    }\n",
              "\n",
              "    .dataframe tbody tr th {\n",
              "        vertical-align: top;\n",
              "    }\n",
              "\n",
              "    .dataframe thead th {\n",
              "        text-align: right;\n",
              "    }\n",
              "</style>\n",
              "<table border=\"1\" class=\"dataframe\">\n",
              "  <thead>\n",
              "    <tr style=\"text-align: right;\">\n",
              "      <th></th>\n",
              "      <th>0</th>\n",
              "      <th>1</th>\n",
              "      <th>accuracy</th>\n",
              "      <th>macro avg</th>\n",
              "      <th>weighted avg</th>\n",
              "    </tr>\n",
              "  </thead>\n",
              "  <tbody>\n",
              "    <tr>\n",
              "      <th>precision</th>\n",
              "      <td>0.990340</td>\n",
              "      <td>0.996888</td>\n",
              "      <td>0.993598</td>\n",
              "      <td>0.993614</td>\n",
              "      <td>0.993620</td>\n",
              "    </tr>\n",
              "    <tr>\n",
              "      <th>recall</th>\n",
              "      <td>0.996899</td>\n",
              "      <td>0.990308</td>\n",
              "      <td>0.993598</td>\n",
              "      <td>0.993603</td>\n",
              "      <td>0.993598</td>\n",
              "    </tr>\n",
              "    <tr>\n",
              "      <th>f1-score</th>\n",
              "      <td>0.993608</td>\n",
              "      <td>0.993587</td>\n",
              "      <td>0.993598</td>\n",
              "      <td>0.993598</td>\n",
              "      <td>0.993598</td>\n",
              "    </tr>\n",
              "    <tr>\n",
              "      <th>support</th>\n",
              "      <td>30954.000000</td>\n",
              "      <td>31057.000000</td>\n",
              "      <td>0.993598</td>\n",
              "      <td>62011.000000</td>\n",
              "      <td>62011.000000</td>\n",
              "    </tr>\n",
              "  </tbody>\n",
              "</table>\n",
              "</div>"
            ],
            "text/plain": [
              "                      0             1  accuracy     macro avg  weighted avg\n",
              "precision      0.990340      0.996888  0.993598      0.993614      0.993620\n",
              "recall         0.996899      0.990308  0.993598      0.993603      0.993598\n",
              "f1-score       0.993608      0.993587  0.993598      0.993598      0.993598\n",
              "support    30954.000000  31057.000000  0.993598  62011.000000  62011.000000"
            ]
          },
          "execution_count": 129,
          "metadata": {},
          "output_type": "execute_result"
        }
      ],
      "source": [
        "# Evaluating the classification report of the train data\n",
        "pd.DataFrame(classification_report(y_train,y1_pred,output_dict=True))"
      ]
    },
    {
      "cell_type": "code",
      "execution_count": null,
      "id": "234b08de",
      "metadata": {
        "scrolled": true,
        "id": "234b08de",
        "outputId": "a965b915-a70c-44fa-e449-01840e6e06d4"
      },
      "outputs": [
        {
          "data": {
            "text/html": [
              "<div>\n",
              "<style scoped>\n",
              "    .dataframe tbody tr th:only-of-type {\n",
              "        vertical-align: middle;\n",
              "    }\n",
              "\n",
              "    .dataframe tbody tr th {\n",
              "        vertical-align: top;\n",
              "    }\n",
              "\n",
              "    .dataframe thead th {\n",
              "        text-align: right;\n",
              "    }\n",
              "</style>\n",
              "<table border=\"1\" class=\"dataframe\">\n",
              "  <thead>\n",
              "    <tr style=\"text-align: right;\">\n",
              "      <th></th>\n",
              "      <th>0</th>\n",
              "      <th>1</th>\n",
              "      <th>accuracy</th>\n",
              "      <th>macro avg</th>\n",
              "      <th>weighted avg</th>\n",
              "    </tr>\n",
              "  </thead>\n",
              "  <tbody>\n",
              "    <tr>\n",
              "      <th>precision</th>\n",
              "      <td>0.988325</td>\n",
              "      <td>0.995233</td>\n",
              "      <td>0.99176</td>\n",
              "      <td>0.991779</td>\n",
              "      <td>0.991784</td>\n",
              "    </tr>\n",
              "    <tr>\n",
              "      <th>recall</th>\n",
              "      <td>0.995252</td>\n",
              "      <td>0.988278</td>\n",
              "      <td>0.99176</td>\n",
              "      <td>0.991765</td>\n",
              "      <td>0.991760</td>\n",
              "    </tr>\n",
              "    <tr>\n",
              "      <th>f1-score</th>\n",
              "      <td>0.991777</td>\n",
              "      <td>0.991743</td>\n",
              "      <td>0.99176</td>\n",
              "      <td>0.991760</td>\n",
              "      <td>0.991760</td>\n",
              "    </tr>\n",
              "    <tr>\n",
              "      <th>support</th>\n",
              "      <td>13269.000000</td>\n",
              "      <td>13308.000000</td>\n",
              "      <td>0.99176</td>\n",
              "      <td>26577.000000</td>\n",
              "      <td>26577.000000</td>\n",
              "    </tr>\n",
              "  </tbody>\n",
              "</table>\n",
              "</div>"
            ],
            "text/plain": [
              "                      0             1  accuracy     macro avg  weighted avg\n",
              "precision      0.988325      0.995233   0.99176      0.991779      0.991784\n",
              "recall         0.995252      0.988278   0.99176      0.991765      0.991760\n",
              "f1-score       0.991777      0.991743   0.99176      0.991760      0.991760\n",
              "support    13269.000000  13308.000000   0.99176  26577.000000  26577.000000"
            ]
          },
          "execution_count": 130,
          "metadata": {},
          "output_type": "execute_result"
        }
      ],
      "source": [
        "# Evaluating the classification report of the test data\n",
        "pd.DataFrame(classification_report(y_test, y_pred,output_dict=True))"
      ]
    },
    {
      "cell_type": "markdown",
      "id": "60525723",
      "metadata": {
        "id": "60525723"
      },
      "source": [
        "## 4.Decission Tree Algorithm"
      ]
    },
    {
      "cell_type": "code",
      "execution_count": null,
      "id": "c92b0cc6",
      "metadata": {
        "id": "c92b0cc6"
      },
      "outputs": [],
      "source": [
        "from sklearn.tree import DecisionTreeClassifier\n",
        "dtc = DecisionTreeClassifier()\n",
        "dtc.fit(x_train,y_train)\n",
        "y_pred = dtc.predict(x_test)\n",
        "y1_pred = dtc.predict(x_train)"
      ]
    },
    {
      "cell_type": "code",
      "execution_count": null,
      "id": "164c251e",
      "metadata": {
        "id": "164c251e",
        "outputId": "0b9c9eb7-4879-4539-f341-8e9bb3e9044d"
      },
      "outputs": [
        {
          "data": {
            "text/plain": [
              "array([1, 0, 0, ..., 0, 1, 0], dtype=int64)"
            ]
          },
          "execution_count": 132,
          "metadata": {},
          "output_type": "execute_result"
        }
      ],
      "source": [
        "y_pred"
      ]
    },
    {
      "cell_type": "code",
      "execution_count": null,
      "id": "f77cfad2",
      "metadata": {
        "id": "f77cfad2",
        "outputId": "f8bf655f-bce2-44f4-e7ea-de98e7393ea3"
      },
      "outputs": [
        {
          "data": {
            "text/plain": [
              "81226    1\n",
              "30269    0\n",
              "27129    0\n",
              "32408    0\n",
              "74220    1\n",
              "        ..\n",
              "87438    1\n",
              "19337    1\n",
              "79275    0\n",
              "9350     1\n",
              "77265    0\n",
              "Name: activity, Length: 26577, dtype: int64"
            ]
          },
          "execution_count": 133,
          "metadata": {},
          "output_type": "execute_result"
        }
      ],
      "source": [
        "y_test"
      ]
    },
    {
      "cell_type": "markdown",
      "id": "7bb1b208",
      "metadata": {
        "id": "7bb1b208"
      },
      "source": [
        "### Evaluation Matrix for decission tree"
      ]
    },
    {
      "cell_type": "code",
      "execution_count": null,
      "id": "37892452",
      "metadata": {
        "id": "37892452",
        "outputId": "e82a4c3f-78ac-493f-b784-7ef2b00260d3"
      },
      "outputs": [
        {
          "data": {
            "text/plain": [
              "0.9825271841019872"
            ]
          },
          "execution_count": 134,
          "metadata": {},
          "output_type": "execute_result"
        }
      ],
      "source": [
        "pcc = precision_score(y_test, y_pred)\n",
        "pcc"
      ]
    },
    {
      "cell_type": "code",
      "execution_count": null,
      "id": "f587f381",
      "metadata": {
        "id": "f587f381",
        "outputId": "c2d7fec6-8ebb-451a-d830-90e1ad71a9c8"
      },
      "outputs": [
        {
          "data": {
            "text/plain": [
              "0.9845205891193267"
            ]
          },
          "execution_count": 135,
          "metadata": {},
          "output_type": "execute_result"
        }
      ],
      "source": [
        "rcc = recall_score(y_test, y_pred)\n",
        "rcc"
      ]
    },
    {
      "cell_type": "code",
      "execution_count": null,
      "id": "72f48768",
      "metadata": {
        "id": "72f48768",
        "outputId": "857cd932-2666-4df4-a59f-efd35310bfaf"
      },
      "outputs": [
        {
          "data": {
            "text/plain": [
              "0.9835228765529407"
            ]
          },
          "execution_count": 136,
          "metadata": {},
          "output_type": "execute_result"
        }
      ],
      "source": [
        "fc = f1_score(y_test, y_pred)\n",
        "fc"
      ]
    },
    {
      "cell_type": "code",
      "execution_count": null,
      "id": "fed7e930",
      "metadata": {
        "id": "fed7e930",
        "outputId": "c19a5fc6-88b2-4153-c265-8aad452113dd"
      },
      "outputs": [
        {
          "data": {
            "text/plain": [
              "array([[13036,   233],\n",
              "       [  206, 13102]], dtype=int64)"
            ]
          },
          "execution_count": 137,
          "metadata": {},
          "output_type": "execute_result"
        }
      ],
      "source": [
        "confusion_matrix(y_test, y_pred)"
      ]
    },
    {
      "cell_type": "code",
      "execution_count": null,
      "id": "e9b02799",
      "metadata": {
        "id": "e9b02799",
        "outputId": "0a32837b-f99f-416c-845f-d5632c5b5437"
      },
      "outputs": [
        {
          "name": "stdout",
          "output_type": "stream",
          "text": [
            "Train_Accuracy: 1.0\n",
            "Test_Accuracy: 0.9834819580840577\n"
          ]
        }
      ],
      "source": [
        "train_accuracy = accuracy_score(y_train, y1_pred)\n",
        "test_accuracy = accuracy_score(y_test, y_pred)\n",
        "print(\"Train_Accuracy:\", train_accuracy)\n",
        "print(\"Test_Accuracy:\", test_accuracy)"
      ]
    },
    {
      "cell_type": "code",
      "execution_count": null,
      "id": "8526dd5b",
      "metadata": {
        "id": "8526dd5b",
        "outputId": "54cbd708-b367-40ad-8625-c885df382ad6"
      },
      "outputs": [
        {
          "data": {
            "text/html": [
              "<div>\n",
              "<style scoped>\n",
              "    .dataframe tbody tr th:only-of-type {\n",
              "        vertical-align: middle;\n",
              "    }\n",
              "\n",
              "    .dataframe tbody tr th {\n",
              "        vertical-align: top;\n",
              "    }\n",
              "\n",
              "    .dataframe thead th {\n",
              "        text-align: right;\n",
              "    }\n",
              "</style>\n",
              "<table border=\"1\" class=\"dataframe\">\n",
              "  <thead>\n",
              "    <tr style=\"text-align: right;\">\n",
              "      <th></th>\n",
              "      <th>0</th>\n",
              "      <th>1</th>\n",
              "      <th>accuracy</th>\n",
              "      <th>macro avg</th>\n",
              "      <th>weighted avg</th>\n",
              "    </tr>\n",
              "  </thead>\n",
              "  <tbody>\n",
              "    <tr>\n",
              "      <th>precision</th>\n",
              "      <td>1.0</td>\n",
              "      <td>1.0</td>\n",
              "      <td>1.0</td>\n",
              "      <td>1.0</td>\n",
              "      <td>1.0</td>\n",
              "    </tr>\n",
              "    <tr>\n",
              "      <th>recall</th>\n",
              "      <td>1.0</td>\n",
              "      <td>1.0</td>\n",
              "      <td>1.0</td>\n",
              "      <td>1.0</td>\n",
              "      <td>1.0</td>\n",
              "    </tr>\n",
              "    <tr>\n",
              "      <th>f1-score</th>\n",
              "      <td>1.0</td>\n",
              "      <td>1.0</td>\n",
              "      <td>1.0</td>\n",
              "      <td>1.0</td>\n",
              "      <td>1.0</td>\n",
              "    </tr>\n",
              "    <tr>\n",
              "      <th>support</th>\n",
              "      <td>30954.0</td>\n",
              "      <td>31057.0</td>\n",
              "      <td>1.0</td>\n",
              "      <td>62011.0</td>\n",
              "      <td>62011.0</td>\n",
              "    </tr>\n",
              "  </tbody>\n",
              "</table>\n",
              "</div>"
            ],
            "text/plain": [
              "                 0        1  accuracy  macro avg  weighted avg\n",
              "precision      1.0      1.0       1.0        1.0           1.0\n",
              "recall         1.0      1.0       1.0        1.0           1.0\n",
              "f1-score       1.0      1.0       1.0        1.0           1.0\n",
              "support    30954.0  31057.0       1.0    62011.0       62011.0"
            ]
          },
          "execution_count": 139,
          "metadata": {},
          "output_type": "execute_result"
        }
      ],
      "source": [
        "# Evaluating the classification report of the train data\n",
        "pd.DataFrame(classification_report(y_train,y1_pred,output_dict=True))"
      ]
    },
    {
      "cell_type": "code",
      "execution_count": null,
      "id": "d2ce725e",
      "metadata": {
        "id": "d2ce725e",
        "outputId": "489b071a-22fe-4139-d69f-85dd8e2ee07c"
      },
      "outputs": [
        {
          "data": {
            "text/html": [
              "<div>\n",
              "<style scoped>\n",
              "    .dataframe tbody tr th:only-of-type {\n",
              "        vertical-align: middle;\n",
              "    }\n",
              "\n",
              "    .dataframe tbody tr th {\n",
              "        vertical-align: top;\n",
              "    }\n",
              "\n",
              "    .dataframe thead th {\n",
              "        text-align: right;\n",
              "    }\n",
              "</style>\n",
              "<table border=\"1\" class=\"dataframe\">\n",
              "  <thead>\n",
              "    <tr style=\"text-align: right;\">\n",
              "      <th></th>\n",
              "      <th>0</th>\n",
              "      <th>1</th>\n",
              "      <th>accuracy</th>\n",
              "      <th>macro avg</th>\n",
              "      <th>weighted avg</th>\n",
              "    </tr>\n",
              "  </thead>\n",
              "  <tbody>\n",
              "    <tr>\n",
              "      <th>precision</th>\n",
              "      <td>0.984443</td>\n",
              "      <td>0.982527</td>\n",
              "      <td>0.983482</td>\n",
              "      <td>0.983485</td>\n",
              "      <td>0.983484</td>\n",
              "    </tr>\n",
              "    <tr>\n",
              "      <th>recall</th>\n",
              "      <td>0.982440</td>\n",
              "      <td>0.984521</td>\n",
              "      <td>0.983482</td>\n",
              "      <td>0.983480</td>\n",
              "      <td>0.983482</td>\n",
              "    </tr>\n",
              "    <tr>\n",
              "      <th>f1-score</th>\n",
              "      <td>0.983441</td>\n",
              "      <td>0.983523</td>\n",
              "      <td>0.983482</td>\n",
              "      <td>0.983482</td>\n",
              "      <td>0.983482</td>\n",
              "    </tr>\n",
              "    <tr>\n",
              "      <th>support</th>\n",
              "      <td>13269.000000</td>\n",
              "      <td>13308.000000</td>\n",
              "      <td>0.983482</td>\n",
              "      <td>26577.000000</td>\n",
              "      <td>26577.000000</td>\n",
              "    </tr>\n",
              "  </tbody>\n",
              "</table>\n",
              "</div>"
            ],
            "text/plain": [
              "                      0             1  accuracy     macro avg  weighted avg\n",
              "precision      0.984443      0.982527  0.983482      0.983485      0.983484\n",
              "recall         0.982440      0.984521  0.983482      0.983480      0.983482\n",
              "f1-score       0.983441      0.983523  0.983482      0.983482      0.983482\n",
              "support    13269.000000  13308.000000  0.983482  26577.000000  26577.000000"
            ]
          },
          "execution_count": 140,
          "metadata": {},
          "output_type": "execute_result"
        }
      ],
      "source": [
        "# Evaluating the classification report of the test data\n",
        "pd.DataFrame(classification_report(y_test, y_pred,output_dict=True))"
      ]
    },
    {
      "cell_type": "markdown",
      "id": "e4e72485",
      "metadata": {
        "id": "e4e72485"
      },
      "source": [
        "## 5.Random Forest Classifier"
      ]
    },
    {
      "cell_type": "code",
      "execution_count": null,
      "id": "4d73d9df",
      "metadata": {
        "id": "4d73d9df"
      },
      "outputs": [],
      "source": [
        "from sklearn.ensemble import RandomForestClassifier\n",
        "rf_clf = RandomForestClassifier(n_estimators=100)\n",
        "rf_clf.fit(x_train,y_train)\n",
        "y_pred = rf_clf.predict(x_test)\n",
        "y1_pred = dtc.predict(x_train)"
      ]
    },
    {
      "cell_type": "code",
      "execution_count": null,
      "id": "30ceb343",
      "metadata": {
        "id": "30ceb343",
        "outputId": "cecb4239-5a6b-4b26-df6c-308a228ee763"
      },
      "outputs": [
        {
          "data": {
            "text/plain": [
              "array([1, 0, 0, ..., 0, 1, 0], dtype=int64)"
            ]
          },
          "execution_count": 142,
          "metadata": {},
          "output_type": "execute_result"
        }
      ],
      "source": [
        "y_pred"
      ]
    },
    {
      "cell_type": "code",
      "execution_count": null,
      "id": "183c543a",
      "metadata": {
        "id": "183c543a",
        "outputId": "766e464a-128c-4326-83a9-6755986875b0"
      },
      "outputs": [
        {
          "data": {
            "text/plain": [
              "81226    1\n",
              "30269    0\n",
              "27129    0\n",
              "32408    0\n",
              "74220    1\n",
              "        ..\n",
              "87438    1\n",
              "19337    1\n",
              "79275    0\n",
              "9350     1\n",
              "77265    0\n",
              "Name: activity, Length: 26577, dtype: int64"
            ]
          },
          "execution_count": 143,
          "metadata": {},
          "output_type": "execute_result"
        }
      ],
      "source": [
        "y_test"
      ]
    },
    {
      "cell_type": "markdown",
      "id": "daa27e33",
      "metadata": {
        "id": "daa27e33"
      },
      "source": [
        "## Evaluation Matrix for Random Forest Classifier"
      ]
    },
    {
      "cell_type": "code",
      "execution_count": null,
      "id": "29ad41c6",
      "metadata": {
        "id": "29ad41c6",
        "outputId": "392c8204-0ca2-42fc-84a3-3494f8db2792"
      },
      "outputs": [
        {
          "data": {
            "text/plain": [
              "0.9907720009002926"
            ]
          },
          "execution_count": 144,
          "metadata": {},
          "output_type": "execute_result"
        }
      ],
      "source": [
        "prc = precision_score(y_test, y_pred)\n",
        "prc"
      ]
    },
    {
      "cell_type": "code",
      "execution_count": null,
      "id": "03341f26",
      "metadata": {
        "id": "03341f26",
        "outputId": "08c51ca7-9825-4c68-b1a1-a58216e304ef"
      },
      "outputs": [
        {
          "data": {
            "text/plain": [
              "0.9923354373309288"
            ]
          },
          "execution_count": 145,
          "metadata": {},
          "output_type": "execute_result"
        }
      ],
      "source": [
        "rcc = recall_score(y_test, y_pred)\n",
        "rcc"
      ]
    },
    {
      "cell_type": "code",
      "execution_count": null,
      "id": "0830cbb6",
      "metadata": {
        "id": "0830cbb6",
        "outputId": "8755ae23-6887-4ffb-ab4e-89f798e7f5a5"
      },
      "outputs": [
        {
          "data": {
            "text/plain": [
              "0.9915531028268949"
            ]
          },
          "execution_count": 146,
          "metadata": {},
          "output_type": "execute_result"
        }
      ],
      "source": [
        "fc = f1_score(y_test, y_pred)\n",
        "fc"
      ]
    },
    {
      "cell_type": "code",
      "execution_count": null,
      "id": "50166a63",
      "metadata": {
        "id": "50166a63",
        "outputId": "814c1d30-8ff3-4cec-cdfe-a6ed7b0b743c"
      },
      "outputs": [
        {
          "data": {
            "text/plain": [
              "array([[13146,   123],\n",
              "       [  102, 13206]], dtype=int64)"
            ]
          },
          "execution_count": 147,
          "metadata": {},
          "output_type": "execute_result"
        }
      ],
      "source": [
        "confusion_matrix(y_test, y_pred)"
      ]
    },
    {
      "cell_type": "code",
      "execution_count": null,
      "id": "edbce406",
      "metadata": {
        "id": "edbce406",
        "outputId": "79286ebd-3a93-4607-a7f1-b590791aec49"
      },
      "outputs": [
        {
          "name": "stdout",
          "output_type": "stream",
          "text": [
            "Train_Accuracy: 1.0\n",
            "Test_Accuracy: 0.99153403318659\n"
          ]
        }
      ],
      "source": [
        "train_accuracy = accuracy_score(y_train, y1_pred)\n",
        "test_accuracy = accuracy_score(y_test, y_pred)\n",
        "print(\"Train_Accuracy:\", train_accuracy)\n",
        "print(\"Test_Accuracy:\", test_accuracy)"
      ]
    },
    {
      "cell_type": "code",
      "execution_count": null,
      "id": "00ac67ae",
      "metadata": {
        "scrolled": true,
        "id": "00ac67ae",
        "outputId": "85a0b1ad-0cf4-4fec-a67b-73b74298e85e"
      },
      "outputs": [
        {
          "data": {
            "text/html": [
              "<div>\n",
              "<style scoped>\n",
              "    .dataframe tbody tr th:only-of-type {\n",
              "        vertical-align: middle;\n",
              "    }\n",
              "\n",
              "    .dataframe tbody tr th {\n",
              "        vertical-align: top;\n",
              "    }\n",
              "\n",
              "    .dataframe thead th {\n",
              "        text-align: right;\n",
              "    }\n",
              "</style>\n",
              "<table border=\"1\" class=\"dataframe\">\n",
              "  <thead>\n",
              "    <tr style=\"text-align: right;\">\n",
              "      <th></th>\n",
              "      <th>0</th>\n",
              "      <th>1</th>\n",
              "      <th>accuracy</th>\n",
              "      <th>macro avg</th>\n",
              "      <th>weighted avg</th>\n",
              "    </tr>\n",
              "  </thead>\n",
              "  <tbody>\n",
              "    <tr>\n",
              "      <th>precision</th>\n",
              "      <td>1.0</td>\n",
              "      <td>1.0</td>\n",
              "      <td>1.0</td>\n",
              "      <td>1.0</td>\n",
              "      <td>1.0</td>\n",
              "    </tr>\n",
              "    <tr>\n",
              "      <th>recall</th>\n",
              "      <td>1.0</td>\n",
              "      <td>1.0</td>\n",
              "      <td>1.0</td>\n",
              "      <td>1.0</td>\n",
              "      <td>1.0</td>\n",
              "    </tr>\n",
              "    <tr>\n",
              "      <th>f1-score</th>\n",
              "      <td>1.0</td>\n",
              "      <td>1.0</td>\n",
              "      <td>1.0</td>\n",
              "      <td>1.0</td>\n",
              "      <td>1.0</td>\n",
              "    </tr>\n",
              "    <tr>\n",
              "      <th>support</th>\n",
              "      <td>30954.0</td>\n",
              "      <td>31057.0</td>\n",
              "      <td>1.0</td>\n",
              "      <td>62011.0</td>\n",
              "      <td>62011.0</td>\n",
              "    </tr>\n",
              "  </tbody>\n",
              "</table>\n",
              "</div>"
            ],
            "text/plain": [
              "                 0        1  accuracy  macro avg  weighted avg\n",
              "precision      1.0      1.0       1.0        1.0           1.0\n",
              "recall         1.0      1.0       1.0        1.0           1.0\n",
              "f1-score       1.0      1.0       1.0        1.0           1.0\n",
              "support    30954.0  31057.0       1.0    62011.0       62011.0"
            ]
          },
          "execution_count": 149,
          "metadata": {},
          "output_type": "execute_result"
        }
      ],
      "source": [
        "# Evaluating the classification report of the train data\n",
        "pd.DataFrame(classification_report(y_train,y1_pred,output_dict=True))"
      ]
    },
    {
      "cell_type": "code",
      "execution_count": null,
      "id": "9a596e63",
      "metadata": {
        "id": "9a596e63",
        "outputId": "0db7b6a4-ca11-4a57-c8f7-17c2023f347d"
      },
      "outputs": [
        {
          "data": {
            "text/html": [
              "<div>\n",
              "<style scoped>\n",
              "    .dataframe tbody tr th:only-of-type {\n",
              "        vertical-align: middle;\n",
              "    }\n",
              "\n",
              "    .dataframe tbody tr th {\n",
              "        vertical-align: top;\n",
              "    }\n",
              "\n",
              "    .dataframe thead th {\n",
              "        text-align: right;\n",
              "    }\n",
              "</style>\n",
              "<table border=\"1\" class=\"dataframe\">\n",
              "  <thead>\n",
              "    <tr style=\"text-align: right;\">\n",
              "      <th></th>\n",
              "      <th>0</th>\n",
              "      <th>1</th>\n",
              "      <th>accuracy</th>\n",
              "      <th>macro avg</th>\n",
              "      <th>weighted avg</th>\n",
              "    </tr>\n",
              "  </thead>\n",
              "  <tbody>\n",
              "    <tr>\n",
              "      <th>precision</th>\n",
              "      <td>0.992301</td>\n",
              "      <td>0.990772</td>\n",
              "      <td>0.991534</td>\n",
              "      <td>0.991536</td>\n",
              "      <td>0.991535</td>\n",
              "    </tr>\n",
              "    <tr>\n",
              "      <th>recall</th>\n",
              "      <td>0.990730</td>\n",
              "      <td>0.992335</td>\n",
              "      <td>0.991534</td>\n",
              "      <td>0.991533</td>\n",
              "      <td>0.991534</td>\n",
              "    </tr>\n",
              "    <tr>\n",
              "      <th>f1-score</th>\n",
              "      <td>0.991515</td>\n",
              "      <td>0.991553</td>\n",
              "      <td>0.991534</td>\n",
              "      <td>0.991534</td>\n",
              "      <td>0.991534</td>\n",
              "    </tr>\n",
              "    <tr>\n",
              "      <th>support</th>\n",
              "      <td>13269.000000</td>\n",
              "      <td>13308.000000</td>\n",
              "      <td>0.991534</td>\n",
              "      <td>26577.000000</td>\n",
              "      <td>26577.000000</td>\n",
              "    </tr>\n",
              "  </tbody>\n",
              "</table>\n",
              "</div>"
            ],
            "text/plain": [
              "                      0             1  accuracy     macro avg  weighted avg\n",
              "precision      0.992301      0.990772  0.991534      0.991536      0.991535\n",
              "recall         0.990730      0.992335  0.991534      0.991533      0.991534\n",
              "f1-score       0.991515      0.991553  0.991534      0.991534      0.991534\n",
              "support    13269.000000  13308.000000  0.991534  26577.000000  26577.000000"
            ]
          },
          "execution_count": 150,
          "metadata": {},
          "output_type": "execute_result"
        }
      ],
      "source": [
        "# Evaluating the classification report of the test data\n",
        "pd.DataFrame(classification_report(y_test, y_pred,output_dict=True))"
      ]
    },
    {
      "cell_type": "markdown",
      "id": "c484e28c",
      "metadata": {
        "id": "c484e28c"
      },
      "source": [
        "## 6. Naive Bayes"
      ]
    },
    {
      "cell_type": "code",
      "execution_count": null,
      "id": "c03ca156",
      "metadata": {
        "id": "c03ca156"
      },
      "outputs": [],
      "source": [
        "from sklearn.naive_bayes import GaussianNB\n",
        "# Creating a Naive Bayes classifier\n",
        "clf = GaussianNB()\n",
        "# Training the classifier on the training set\n",
        "clf.fit(x_train, y_train)\n",
        "y_pred = clf.predict(x_test)\n",
        "y1_pred = dtc.predict(x_train)"
      ]
    },
    {
      "cell_type": "code",
      "execution_count": null,
      "id": "4d4c8c3c",
      "metadata": {
        "id": "4d4c8c3c",
        "outputId": "27df46a0-5c64-41f0-d63b-10a5ef8f09e0"
      },
      "outputs": [
        {
          "data": {
            "text/plain": [
              "array([1, 0, 0, ..., 0, 1, 0], dtype=int64)"
            ]
          },
          "execution_count": 152,
          "metadata": {},
          "output_type": "execute_result"
        }
      ],
      "source": [
        "y_pred"
      ]
    },
    {
      "cell_type": "code",
      "execution_count": null,
      "id": "230debe1",
      "metadata": {
        "scrolled": true,
        "id": "230debe1",
        "outputId": "094500b6-4d70-43cd-9426-b9cfde0b5ff4"
      },
      "outputs": [
        {
          "data": {
            "text/plain": [
              "81226    1\n",
              "30269    0\n",
              "27129    0\n",
              "32408    0\n",
              "74220    1\n",
              "        ..\n",
              "87438    1\n",
              "19337    1\n",
              "79275    0\n",
              "9350     1\n",
              "77265    0\n",
              "Name: activity, Length: 26577, dtype: int64"
            ]
          },
          "execution_count": 153,
          "metadata": {},
          "output_type": "execute_result"
        }
      ],
      "source": [
        "y_test"
      ]
    },
    {
      "cell_type": "markdown",
      "id": "292d213e",
      "metadata": {
        "id": "292d213e"
      },
      "source": [
        "### Evaluation Matrix for Random Forest Classifier"
      ]
    },
    {
      "cell_type": "code",
      "execution_count": null,
      "id": "7b0aefb7",
      "metadata": {
        "id": "7b0aefb7",
        "outputId": "45850f1f-39c0-43f8-a51a-eea1a0a21f2e"
      },
      "outputs": [
        {
          "data": {
            "text/plain": [
              "0.9891566265060241"
            ]
          },
          "execution_count": 154,
          "metadata": {},
          "output_type": "execute_result"
        }
      ],
      "source": [
        "prc = precision_score(y_test, y_pred)\n",
        "prc"
      ]
    },
    {
      "cell_type": "code",
      "execution_count": null,
      "id": "237f7b4a",
      "metadata": {
        "id": "237f7b4a",
        "outputId": "b8255bf6-d77a-4755-f298-b86066827170"
      },
      "outputs": [
        {
          "data": {
            "text/plain": [
              "0.9253832281334535"
            ]
          },
          "execution_count": 155,
          "metadata": {},
          "output_type": "execute_result"
        }
      ],
      "source": [
        "rcc = recall_score(y_test, y_pred)\n",
        "rcc"
      ]
    },
    {
      "cell_type": "code",
      "execution_count": null,
      "id": "2bc3dd2a",
      "metadata": {
        "id": "2bc3dd2a",
        "outputId": "59cc90f6-0af2-4528-cbd3-83a6d6be5aca"
      },
      "outputs": [
        {
          "data": {
            "text/plain": [
              "0.9562077801071512"
            ]
          },
          "execution_count": 156,
          "metadata": {},
          "output_type": "execute_result"
        }
      ],
      "source": [
        "fc = f1_score(y_test, y_pred)\n",
        "fc"
      ]
    },
    {
      "cell_type": "code",
      "execution_count": null,
      "id": "7825b1b3",
      "metadata": {
        "id": "7825b1b3",
        "outputId": "5fa703ac-8c14-47c1-fc3d-8050d565f2ff"
      },
      "outputs": [
        {
          "data": {
            "text/plain": [
              "array([[13134,   135],\n",
              "       [  993, 12315]], dtype=int64)"
            ]
          },
          "execution_count": 157,
          "metadata": {},
          "output_type": "execute_result"
        }
      ],
      "source": [
        "confusion_matrix(y_test, y_pred)"
      ]
    },
    {
      "cell_type": "code",
      "execution_count": null,
      "id": "d2c45446",
      "metadata": {
        "id": "d2c45446",
        "outputId": "566d0896-e3b2-430c-89ef-627bd7968177"
      },
      "outputs": [
        {
          "name": "stdout",
          "output_type": "stream",
          "text": [
            "Train_Accuracy: 1.0\n",
            "Test_Accuracy: 0.9575572863754374\n"
          ]
        }
      ],
      "source": [
        "train_accuracy = accuracy_score(y_train, y1_pred)\n",
        "test_accuracy = accuracy_score(y_test, y_pred)\n",
        "print(\"Train_Accuracy:\", train_accuracy)\n",
        "print(\"Test_Accuracy:\", test_accuracy)"
      ]
    },
    {
      "cell_type": "code",
      "execution_count": null,
      "id": "06dca792",
      "metadata": {
        "id": "06dca792",
        "outputId": "a4ee60cd-bef5-49c2-eabb-0b3e122827a2"
      },
      "outputs": [
        {
          "data": {
            "text/html": [
              "<div>\n",
              "<style scoped>\n",
              "    .dataframe tbody tr th:only-of-type {\n",
              "        vertical-align: middle;\n",
              "    }\n",
              "\n",
              "    .dataframe tbody tr th {\n",
              "        vertical-align: top;\n",
              "    }\n",
              "\n",
              "    .dataframe thead th {\n",
              "        text-align: right;\n",
              "    }\n",
              "</style>\n",
              "<table border=\"1\" class=\"dataframe\">\n",
              "  <thead>\n",
              "    <tr style=\"text-align: right;\">\n",
              "      <th></th>\n",
              "      <th>0</th>\n",
              "      <th>1</th>\n",
              "      <th>accuracy</th>\n",
              "      <th>macro avg</th>\n",
              "      <th>weighted avg</th>\n",
              "    </tr>\n",
              "  </thead>\n",
              "  <tbody>\n",
              "    <tr>\n",
              "      <th>precision</th>\n",
              "      <td>1.0</td>\n",
              "      <td>1.0</td>\n",
              "      <td>1.0</td>\n",
              "      <td>1.0</td>\n",
              "      <td>1.0</td>\n",
              "    </tr>\n",
              "    <tr>\n",
              "      <th>recall</th>\n",
              "      <td>1.0</td>\n",
              "      <td>1.0</td>\n",
              "      <td>1.0</td>\n",
              "      <td>1.0</td>\n",
              "      <td>1.0</td>\n",
              "    </tr>\n",
              "    <tr>\n",
              "      <th>f1-score</th>\n",
              "      <td>1.0</td>\n",
              "      <td>1.0</td>\n",
              "      <td>1.0</td>\n",
              "      <td>1.0</td>\n",
              "      <td>1.0</td>\n",
              "    </tr>\n",
              "    <tr>\n",
              "      <th>support</th>\n",
              "      <td>30954.0</td>\n",
              "      <td>31057.0</td>\n",
              "      <td>1.0</td>\n",
              "      <td>62011.0</td>\n",
              "      <td>62011.0</td>\n",
              "    </tr>\n",
              "  </tbody>\n",
              "</table>\n",
              "</div>"
            ],
            "text/plain": [
              "                 0        1  accuracy  macro avg  weighted avg\n",
              "precision      1.0      1.0       1.0        1.0           1.0\n",
              "recall         1.0      1.0       1.0        1.0           1.0\n",
              "f1-score       1.0      1.0       1.0        1.0           1.0\n",
              "support    30954.0  31057.0       1.0    62011.0       62011.0"
            ]
          },
          "execution_count": 159,
          "metadata": {},
          "output_type": "execute_result"
        }
      ],
      "source": [
        "# Evaluating the classification report of the train data\n",
        "pd.DataFrame(classification_report(y_train,y1_pred,output_dict=True))"
      ]
    },
    {
      "cell_type": "code",
      "execution_count": null,
      "id": "e2970d96",
      "metadata": {
        "id": "e2970d96",
        "outputId": "7adcab54-8e5e-4db3-a60b-7f24129feb4c"
      },
      "outputs": [
        {
          "data": {
            "text/html": [
              "<div>\n",
              "<style scoped>\n",
              "    .dataframe tbody tr th:only-of-type {\n",
              "        vertical-align: middle;\n",
              "    }\n",
              "\n",
              "    .dataframe tbody tr th {\n",
              "        vertical-align: top;\n",
              "    }\n",
              "\n",
              "    .dataframe thead th {\n",
              "        text-align: right;\n",
              "    }\n",
              "</style>\n",
              "<table border=\"1\" class=\"dataframe\">\n",
              "  <thead>\n",
              "    <tr style=\"text-align: right;\">\n",
              "      <th></th>\n",
              "      <th>0</th>\n",
              "      <th>1</th>\n",
              "      <th>accuracy</th>\n",
              "      <th>macro avg</th>\n",
              "      <th>weighted avg</th>\n",
              "    </tr>\n",
              "  </thead>\n",
              "  <tbody>\n",
              "    <tr>\n",
              "      <th>precision</th>\n",
              "      <td>0.929709</td>\n",
              "      <td>0.989157</td>\n",
              "      <td>0.957557</td>\n",
              "      <td>0.959433</td>\n",
              "      <td>0.959476</td>\n",
              "    </tr>\n",
              "    <tr>\n",
              "      <th>recall</th>\n",
              "      <td>0.989826</td>\n",
              "      <td>0.925383</td>\n",
              "      <td>0.957557</td>\n",
              "      <td>0.957605</td>\n",
              "      <td>0.957557</td>\n",
              "    </tr>\n",
              "    <tr>\n",
              "      <th>f1-score</th>\n",
              "      <td>0.958826</td>\n",
              "      <td>0.956208</td>\n",
              "      <td>0.957557</td>\n",
              "      <td>0.957517</td>\n",
              "      <td>0.957515</td>\n",
              "    </tr>\n",
              "    <tr>\n",
              "      <th>support</th>\n",
              "      <td>13269.000000</td>\n",
              "      <td>13308.000000</td>\n",
              "      <td>0.957557</td>\n",
              "      <td>26577.000000</td>\n",
              "      <td>26577.000000</td>\n",
              "    </tr>\n",
              "  </tbody>\n",
              "</table>\n",
              "</div>"
            ],
            "text/plain": [
              "                      0             1  accuracy     macro avg  weighted avg\n",
              "precision      0.929709      0.989157  0.957557      0.959433      0.959476\n",
              "recall         0.989826      0.925383  0.957557      0.957605      0.957557\n",
              "f1-score       0.958826      0.956208  0.957557      0.957517      0.957515\n",
              "support    13269.000000  13308.000000  0.957557  26577.000000  26577.000000"
            ]
          },
          "execution_count": 160,
          "metadata": {},
          "output_type": "execute_result"
        }
      ],
      "source": [
        "# Evaluating the classification report of the test data\n",
        "pd.DataFrame(classification_report(y_test, y_pred,output_dict=True))"
      ]
    },
    {
      "cell_type": "markdown",
      "id": "5bd4f532",
      "metadata": {
        "id": "5bd4f532"
      },
      "source": [
        "## 7. Neural Network"
      ]
    },
    {
      "cell_type": "code",
      "execution_count": null,
      "id": "d3e0c57b",
      "metadata": {
        "id": "d3e0c57b"
      },
      "outputs": [],
      "source": [
        "from sklearn.neural_network import MLPClassifier\n",
        "clf = MLPClassifier(hidden_layer_sizes=(100,))\n",
        "clf.fit(x_train,y_train)\n",
        "y_pred = clf.predict(x_test)\n",
        "y1_pred = dtc.predict(x_train)"
      ]
    },
    {
      "cell_type": "code",
      "execution_count": null,
      "id": "f8120456",
      "metadata": {
        "id": "f8120456",
        "outputId": "9bd5521d-f524-4c29-bf3f-b4dfb1bc00c7"
      },
      "outputs": [
        {
          "data": {
            "text/plain": [
              "array([1, 0, 0, ..., 0, 1, 0], dtype=int64)"
            ]
          },
          "execution_count": 162,
          "metadata": {},
          "output_type": "execute_result"
        }
      ],
      "source": [
        "y_pred"
      ]
    },
    {
      "cell_type": "code",
      "execution_count": null,
      "id": "2b7d67c9",
      "metadata": {
        "id": "2b7d67c9",
        "outputId": "963a2865-8046-4e4c-c782-8f9b270222b4"
      },
      "outputs": [
        {
          "data": {
            "text/plain": [
              "81226    1\n",
              "30269    0\n",
              "27129    0\n",
              "32408    0\n",
              "74220    1\n",
              "        ..\n",
              "87438    1\n",
              "19337    1\n",
              "79275    0\n",
              "9350     1\n",
              "77265    0\n",
              "Name: activity, Length: 26577, dtype: int64"
            ]
          },
          "execution_count": 163,
          "metadata": {},
          "output_type": "execute_result"
        }
      ],
      "source": [
        "y_test"
      ]
    },
    {
      "cell_type": "markdown",
      "id": "7048305f",
      "metadata": {
        "id": "7048305f"
      },
      "source": [
        "### Evaluation Matrix for Random Forest Classifie"
      ]
    },
    {
      "cell_type": "code",
      "execution_count": null,
      "id": "09a137d0",
      "metadata": {
        "id": "09a137d0",
        "outputId": "ad6e7423-18eb-4516-8a63-a085393e2d2d"
      },
      "outputs": [
        {
          "data": {
            "text/plain": [
              "0.9946011710136111"
            ]
          },
          "execution_count": 164,
          "metadata": {},
          "output_type": "execute_result"
        }
      ],
      "source": [
        "prc = precision_score(y_test, y_pred)\n",
        "prc"
      ]
    },
    {
      "cell_type": "code",
      "execution_count": null,
      "id": "5afc31b4",
      "metadata": {
        "id": "5afc31b4",
        "outputId": "afff4ee2-4e9f-4338-fbbb-5c826f0dec2d"
      },
      "outputs": [
        {
          "data": {
            "text/plain": [
              "0.9828674481514879"
            ]
          },
          "execution_count": 165,
          "metadata": {},
          "output_type": "execute_result"
        }
      ],
      "source": [
        "rcc = recall_score(y_test, y_pred)\n",
        "rcc"
      ]
    },
    {
      "cell_type": "code",
      "execution_count": null,
      "id": "e9ad4ddf",
      "metadata": {
        "id": "e9ad4ddf",
        "outputId": "9a096943-2713-4919-ae4b-ddd58f153a02"
      },
      "outputs": [
        {
          "data": {
            "text/plain": [
              "0.9886994973355002"
            ]
          },
          "execution_count": 166,
          "metadata": {},
          "output_type": "execute_result"
        }
      ],
      "source": [
        "fc = f1_score(y_test, y_pred)\n",
        "fc"
      ]
    },
    {
      "cell_type": "code",
      "execution_count": null,
      "id": "1414e8c2",
      "metadata": {
        "id": "1414e8c2",
        "outputId": "8fa949f7-cbcb-49aa-9329-773703ddc8f7"
      },
      "outputs": [
        {
          "data": {
            "text/plain": [
              "array([[13198,    71],\n",
              "       [  228, 13080]], dtype=int64)"
            ]
          },
          "execution_count": 167,
          "metadata": {},
          "output_type": "execute_result"
        }
      ],
      "source": [
        "confusion_matrix(y_test, y_pred)"
      ]
    },
    {
      "cell_type": "code",
      "execution_count": null,
      "id": "504b3f43",
      "metadata": {
        "id": "504b3f43",
        "outputId": "46fca076-e3c6-4ba2-fd5d-2445c936880b"
      },
      "outputs": [
        {
          "name": "stdout",
          "output_type": "stream",
          "text": [
            "Train_Accuracy: 1.0\n",
            "Test_Accuracy: 0.9887496707679573\n"
          ]
        }
      ],
      "source": [
        "train_accuracy = accuracy_score(y_train, y1_pred)\n",
        "test_accuracy = accuracy_score(y_test, y_pred)\n",
        "print(\"Train_Accuracy:\", train_accuracy)\n",
        "print(\"Test_Accuracy:\", test_accuracy)"
      ]
    },
    {
      "cell_type": "code",
      "execution_count": null,
      "id": "1bcd4071",
      "metadata": {
        "id": "1bcd4071",
        "outputId": "aaacdd5c-1dcd-444f-bd87-67bfe7406eaa"
      },
      "outputs": [
        {
          "data": {
            "text/html": [
              "<div>\n",
              "<style scoped>\n",
              "    .dataframe tbody tr th:only-of-type {\n",
              "        vertical-align: middle;\n",
              "    }\n",
              "\n",
              "    .dataframe tbody tr th {\n",
              "        vertical-align: top;\n",
              "    }\n",
              "\n",
              "    .dataframe thead th {\n",
              "        text-align: right;\n",
              "    }\n",
              "</style>\n",
              "<table border=\"1\" class=\"dataframe\">\n",
              "  <thead>\n",
              "    <tr style=\"text-align: right;\">\n",
              "      <th></th>\n",
              "      <th>0</th>\n",
              "      <th>1</th>\n",
              "      <th>accuracy</th>\n",
              "      <th>macro avg</th>\n",
              "      <th>weighted avg</th>\n",
              "    </tr>\n",
              "  </thead>\n",
              "  <tbody>\n",
              "    <tr>\n",
              "      <th>precision</th>\n",
              "      <td>1.0</td>\n",
              "      <td>1.0</td>\n",
              "      <td>1.0</td>\n",
              "      <td>1.0</td>\n",
              "      <td>1.0</td>\n",
              "    </tr>\n",
              "    <tr>\n",
              "      <th>recall</th>\n",
              "      <td>1.0</td>\n",
              "      <td>1.0</td>\n",
              "      <td>1.0</td>\n",
              "      <td>1.0</td>\n",
              "      <td>1.0</td>\n",
              "    </tr>\n",
              "    <tr>\n",
              "      <th>f1-score</th>\n",
              "      <td>1.0</td>\n",
              "      <td>1.0</td>\n",
              "      <td>1.0</td>\n",
              "      <td>1.0</td>\n",
              "      <td>1.0</td>\n",
              "    </tr>\n",
              "    <tr>\n",
              "      <th>support</th>\n",
              "      <td>30954.0</td>\n",
              "      <td>31057.0</td>\n",
              "      <td>1.0</td>\n",
              "      <td>62011.0</td>\n",
              "      <td>62011.0</td>\n",
              "    </tr>\n",
              "  </tbody>\n",
              "</table>\n",
              "</div>"
            ],
            "text/plain": [
              "                 0        1  accuracy  macro avg  weighted avg\n",
              "precision      1.0      1.0       1.0        1.0           1.0\n",
              "recall         1.0      1.0       1.0        1.0           1.0\n",
              "f1-score       1.0      1.0       1.0        1.0           1.0\n",
              "support    30954.0  31057.0       1.0    62011.0       62011.0"
            ]
          },
          "execution_count": 169,
          "metadata": {},
          "output_type": "execute_result"
        }
      ],
      "source": [
        "# Evaluating the classification report of the train data\n",
        "pd.DataFrame(classification_report(y_train,y1_pred,output_dict=True))"
      ]
    },
    {
      "cell_type": "code",
      "execution_count": null,
      "id": "42026a27",
      "metadata": {
        "id": "42026a27",
        "outputId": "a958d79d-7cd3-4ee7-dbd0-d504f71039ed"
      },
      "outputs": [
        {
          "data": {
            "text/html": [
              "<div>\n",
              "<style scoped>\n",
              "    .dataframe tbody tr th:only-of-type {\n",
              "        vertical-align: middle;\n",
              "    }\n",
              "\n",
              "    .dataframe tbody tr th {\n",
              "        vertical-align: top;\n",
              "    }\n",
              "\n",
              "    .dataframe thead th {\n",
              "        text-align: right;\n",
              "    }\n",
              "</style>\n",
              "<table border=\"1\" class=\"dataframe\">\n",
              "  <thead>\n",
              "    <tr style=\"text-align: right;\">\n",
              "      <th></th>\n",
              "      <th>0</th>\n",
              "      <th>1</th>\n",
              "      <th>accuracy</th>\n",
              "      <th>macro avg</th>\n",
              "      <th>weighted avg</th>\n",
              "    </tr>\n",
              "  </thead>\n",
              "  <tbody>\n",
              "    <tr>\n",
              "      <th>precision</th>\n",
              "      <td>0.983018</td>\n",
              "      <td>0.994601</td>\n",
              "      <td>0.98875</td>\n",
              "      <td>0.988810</td>\n",
              "      <td>0.988818</td>\n",
              "    </tr>\n",
              "    <tr>\n",
              "      <th>recall</th>\n",
              "      <td>0.994649</td>\n",
              "      <td>0.982867</td>\n",
              "      <td>0.98875</td>\n",
              "      <td>0.988758</td>\n",
              "      <td>0.988750</td>\n",
              "    </tr>\n",
              "    <tr>\n",
              "      <th>f1-score</th>\n",
              "      <td>0.988799</td>\n",
              "      <td>0.988699</td>\n",
              "      <td>0.98875</td>\n",
              "      <td>0.988749</td>\n",
              "      <td>0.988749</td>\n",
              "    </tr>\n",
              "    <tr>\n",
              "      <th>support</th>\n",
              "      <td>13269.000000</td>\n",
              "      <td>13308.000000</td>\n",
              "      <td>0.98875</td>\n",
              "      <td>26577.000000</td>\n",
              "      <td>26577.000000</td>\n",
              "    </tr>\n",
              "  </tbody>\n",
              "</table>\n",
              "</div>"
            ],
            "text/plain": [
              "                      0             1  accuracy     macro avg  weighted avg\n",
              "precision      0.983018      0.994601   0.98875      0.988810      0.988818\n",
              "recall         0.994649      0.982867   0.98875      0.988758      0.988750\n",
              "f1-score       0.988799      0.988699   0.98875      0.988749      0.988749\n",
              "support    13269.000000  13308.000000   0.98875  26577.000000  26577.000000"
            ]
          },
          "execution_count": 170,
          "metadata": {},
          "output_type": "execute_result"
        }
      ],
      "source": [
        "# Evaluating the classification report of the test data\n",
        "pd.DataFrame(classification_report(y_test, y_pred,output_dict=True))"
      ]
    },
    {
      "cell_type": "markdown",
      "id": "8414e8f3",
      "metadata": {
        "id": "8414e8f3"
      },
      "source": [
        "## Comparison Report of the Models"
      ]
    },
    {
      "cell_type": "code",
      "execution_count": null,
      "id": "9a73cac6",
      "metadata": {
        "id": "9a73cac6"
      },
      "outputs": [],
      "source": [
        "from prettytable import PrettyTable\n",
        "x=PrettyTable()"
      ]
    },
    {
      "cell_type": "code",
      "execution_count": null,
      "id": "0b5ea46a",
      "metadata": {
        "id": "0b5ea46a"
      },
      "outputs": [],
      "source": [
        "x.field_names = [\"Model\",\"(train)Accuracy\", \"(test)Accuracy\"]\n",
        "x.add_row([\"Logistic Regression\",'86.5 %','86.1%'])\n",
        "x.add_row([\"Decision Trees Classifier\",' 100 %','98.3 %'])\n",
        "x.add_row([\"Support Vector Machine Classifier\",' 99.3 %','99.1 %'])\n",
        "x.add_row([\"Random Forest Classifier\", '100 %','99.1 %'])\n",
        "x.add_row([\"K-Nearest Neighbor Classifier\", '99.3 %','99.1%'])\n",
        "x.add_row([\"Naive Bayes classifier\",'100 %','95.7 %'])\n",
        "x.add_row([\"Neural Network classifier\",'100%','99 %'])"
      ]
    },
    {
      "cell_type": "code",
      "execution_count": null,
      "id": "48a3f261",
      "metadata": {
        "id": "48a3f261",
        "outputId": "d93aa942-dc41-40ca-bbf4-2dea32e4004f"
      },
      "outputs": [
        {
          "name": "stdout",
          "output_type": "stream",
          "text": [
            "+-----------------------------------+-----------------+----------------+\n",
            "|               Model               | (train)Accuracy | (test)Accuracy |\n",
            "+-----------------------------------+-----------------+----------------+\n",
            "|        Logistic Regression        |      86.5 %     |     86.1%      |\n",
            "|     Decision Trees Classifier     |       100 %     |     98.3 %     |\n",
            "| Support Vector Machine Classifier |      99.3 %     |     99.1 %     |\n",
            "|      Random Forest Classifier     |      100 %      |     99.1 %     |\n",
            "|   K-Nearest Neighbor Classifier   |      99.3 %     |     99.1%      |\n",
            "|       Naive Bayes classifier      |      100 %      |     95.7 %     |\n",
            "|     Neural Network classifier     |       100%      |      99 %      |\n",
            "+-----------------------------------+-----------------+----------------+\n"
          ]
        }
      ],
      "source": [
        "print(x)"
      ]
    },
    {
      "cell_type": "code",
      "execution_count": null,
      "id": "94c7f478",
      "metadata": {
        "id": "94c7f478",
        "outputId": "89d8fa88-d716-4337-e851-0d6282bfd95d"
      },
      "outputs": [
        {
          "data": {
            "image/png": "[encoded data removed]",
            "text/plain": [
              "<Figure size 1000x800 with 1 Axes>"
            ]
          },
          "metadata": {},
          "output_type": "display_data"
        },
        {
          "name": "stdout",
          "output_type": "stream",
          "text": [
            "AUC Score: 0.9992107658858863\n"
          ]
        }
      ],
      "source": [
        "from sklearn.metrics import roc_curve, auc\n",
        "\n",
        "\n",
        "# Predicting probabilities on test data\n",
        "y_prob = clf.predict_proba(x_test)[:, 1]\n",
        "\n",
        "# Computing ROC curve and ROC AUC score\n",
        "fpr, tpr, thresholds = roc_curve(y_test, y_prob)\n",
        "roc_auc = auc(fpr, tpr)\n",
        "\n",
        "# Ploting ROC curve\n",
        "plt.figure(figsize=(10,8))\n",
        "plt.plot(fpr, tpr, color='darkorange', lw=2, label='ROC curve (area = %0.2f)' % roc_auc)\n",
        "plt.plot([0, 1], [0, 1], color='navy', lw=2, linestyle='--')\n",
        "plt.xlabel('False Positive Rate')\n",
        "plt.ylabel('True Positive Rate')\n",
        "plt.title('ROC Curve')\n",
        "plt.legend(loc=\"lower right\")\n",
        "plt.show()\n",
        "\n",
        "# Printing AUC score\n",
        "print(\"AUC Score:\", roc_auc)"
      ]
    },
    {
      "cell_type": "markdown",
      "id": "fd6d1066",
      "metadata": {
        "id": "fd6d1066"
      },
      "source": [
        "# Conclusion"
      ]
    },
    {
      "cell_type": "markdown",
      "id": "753192db",
      "metadata": {
        "id": "753192db"
      },
      "source": [
        "* Decision Trees Classifier: The Decision Trees Classifier has a training accuracy of 100% and a testing accuracy of 98.3%. This suggests that the model is likely to perform well on new data.\n",
        "\n",
        "* Support Vector Machine Classifier: The Support Vector Machine Classifier has a training accuracy of 99.3% and a testing accuracy of 99.1%. This suggests that the model is likely to perform well on new data.\n",
        "\n",
        "* Random Forest Classifier: The random forest classifier has a training accuracy of 100% and a testing accuracy of 99.1%. This suggests that the model is likely to perform well on new data.\n",
        "\n",
        "* KNN Classifier: The KNN classifier has a training accuracy of 99.3% and a testing accuracy of 99.1%. This indicates that the model is not performing well and may require further optimization.\n",
        "\n",
        "* Naive Bayes Classifier: The Naive Bayes classifier has a training accuracy of 100% and a testing accuracy of 95.7%. This indicates that the model is performing well and is able to generalize to new data.\n",
        "\n",
        "* Neural Network Classifier: The neural network classifier has a training accuracy of 100% and a testing accuracy of 99%. Although the training accuracy is slightly better than the testing accuracy, the model seems to be performing well.\n",
        "\n",
        "* In conclusion, the Decision Trees Classifier,Support Vector Machine Classifier, random forest classifier, Naive Bayes classifier, and neural network classifier and KNN Classifier seem to be the best performing models, as they have high testing accuracies and are likely to generalize well to new data. The logistic regression may require further optimization to improve their performance."
      ]
    },
    {
      "cell_type": "code",
      "execution_count": null,
      "id": "b2ab9fb4",
      "metadata": {
        "id": "b2ab9fb4"
      },
      "outputs": [],
      "source": []
    },
    {
      "cell_type": "code",
      "execution_count": null,
      "id": "9fdf75ea",
      "metadata": {
        "id": "9fdf75ea"
      },
      "outputs": [],
      "source": []
    },
    {
      "cell_type": "code",
      "execution_count": null,
      "id": "87374d58",
      "metadata": {
        "id": "87374d58"
      },
      "outputs": [],
      "source": []
    }
  ],
  "metadata": {
    "kernelspec": {
      "display_name": "Python 3 (ipykernel)",
      "language": "python",
      "name": "python3"
    },
    "language_info": {
      "codemirror_mode": {
        "name": "ipython",
        "version": 3
      },
      "file_extension": ".py",
      "mimetype": "text/x-python",
      "name": "python",
      "nbconvert_exporter": "python",
      "pygments_lexer": "ipython3",
      "version": "3.10.9"
    },
    "colab": {
      "provenance": []
    }
  },
  "nbformat": 4,
  "nbformat_minor": 5
}